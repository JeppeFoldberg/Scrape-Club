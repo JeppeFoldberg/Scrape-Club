{
 "metadata": {
  "language_info": {
   "codemirror_mode": {
    "name": "ipython",
    "version": 3
   },
   "file_extension": ".py",
   "mimetype": "text/x-python",
   "name": "python",
   "nbconvert_exporter": "python",
   "pygments_lexer": "ipython3",
   "version": "3.8.5-final"
  },
  "orig_nbformat": 2,
  "kernelspec": {
   "name": "Python 3.8.5 64-bit ('pyenv': conda)",
   "display_name": "Python 3.8.5 64-bit ('pyenv': conda)",
   "metadata": {
    "interpreter": {
     "hash": "fdd379f7bb8e06f7ec29e5b7f14bfd985640a300b5a41de1996cc2754af32f7b"
    }
   }
  }
 },
 "nbformat": 4,
 "nbformat_minor": 2,
 "cells": [
  {
   "cell_type": "code",
   "execution_count": 1,
   "metadata": {},
   "outputs": [],
   "source": [
    "import tqdm as tqdm\n",
    "import requests"
   ]
  },
  {
   "cell_type": "code",
   "execution_count": 2,
   "metadata": {},
   "outputs": [],
   "source": [
    "from ejmr_scraper import page_urls\n",
    "from ejmr_scraper import thread_urls\n",
    "from ejmr_scraper import dump_page_content\n",
    "from ejmr_scraper import dump_thread_content\n",
    "from ejmr_scraper import page_df"
   ]
  },
  {
   "cell_type": "code",
   "execution_count": 3,
   "metadata": {},
   "outputs": [],
   "source": [
    "urls = page_urls(1, 5)"
   ]
  },
  {
   "cell_type": "code",
   "execution_count": 4,
   "metadata": {},
   "outputs": [
    {
     "output_type": "stream",
     "name": "stderr",
     "text": [
      "100%|██████████| 5/5 [00:14<00:00,  2.91s/it]\n"
     ]
    }
   ],
   "source": [
    "page_dump = dump_page_content(urls)"
   ]
  },
  {
   "cell_type": "code",
   "execution_count": 5,
   "metadata": {},
   "outputs": [],
   "source": [
    "df = page_df(page_dump)"
   ]
  },
  {
   "cell_type": "code",
   "execution_count": 6,
   "metadata": {},
   "outputs": [
    {
     "output_type": "execute_result",
     "data": {
      "text/plain": [
       "                                              title posts views votes\n",
       "197                        Moderator is very biased    11   398   4-2\n",
       "198                                 Fly on the wall     5   133   5-0\n",
       "199                  The winner of the debate is...     1   104   1-0\n",
       "200  Casey Neistat's wife seems to be a real downer     4   159   0-0\n",
       "201                                  If you were Xi     2    95   0-0"
      ],
      "text/html": "<div>\n<style scoped>\n    .dataframe tbody tr th:only-of-type {\n        vertical-align: middle;\n    }\n\n    .dataframe tbody tr th {\n        vertical-align: top;\n    }\n\n    .dataframe thead th {\n        text-align: right;\n    }\n</style>\n<table border=\"1\" class=\"dataframe\">\n  <thead>\n    <tr style=\"text-align: right;\">\n      <th></th>\n      <th>title</th>\n      <th>posts</th>\n      <th>views</th>\n      <th>votes</th>\n    </tr>\n  </thead>\n  <tbody>\n    <tr>\n      <th>197</th>\n      <td>Moderator is very biased</td>\n      <td>11</td>\n      <td>398</td>\n      <td>4-2</td>\n    </tr>\n    <tr>\n      <th>198</th>\n      <td>Fly on the wall</td>\n      <td>5</td>\n      <td>133</td>\n      <td>5-0</td>\n    </tr>\n    <tr>\n      <th>199</th>\n      <td>The winner of the debate is...</td>\n      <td>1</td>\n      <td>104</td>\n      <td>1-0</td>\n    </tr>\n    <tr>\n      <th>200</th>\n      <td>Casey Neistat's wife seems to be a real downer</td>\n      <td>4</td>\n      <td>159</td>\n      <td>0-0</td>\n    </tr>\n    <tr>\n      <th>201</th>\n      <td>If you were Xi</td>\n      <td>2</td>\n      <td>95</td>\n      <td>0-0</td>\n    </tr>\n  </tbody>\n</table>\n</div>"
     },
     "metadata": {},
     "execution_count": 6
    }
   ],
   "source": [
    "df.tail(5)"
   ]
  },
  {
   "cell_type": "code",
   "execution_count": null,
   "metadata": {},
   "outputs": [],
   "source": []
  }
 ]
}