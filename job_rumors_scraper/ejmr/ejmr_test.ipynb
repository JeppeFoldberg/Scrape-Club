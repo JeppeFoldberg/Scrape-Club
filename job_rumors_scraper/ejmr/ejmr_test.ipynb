{
 "metadata": {
  "language_info": {
   "codemirror_mode": {
    "name": "ipython",
    "version": 3
   },
   "file_extension": ".py",
   "mimetype": "text/x-python",
   "name": "python",
   "nbconvert_exporter": "python",
   "pygments_lexer": "ipython3",
   "version": "3.8.5-final"
  },
  "orig_nbformat": 2,
  "kernelspec": {
   "name": "Python 3.8.5 64-bit ('pyenv': conda)",
   "display_name": "Python 3.8.5 64-bit ('pyenv': conda)",
   "metadata": {
    "interpreter": {
     "hash": "fdd379f7bb8e06f7ec29e5b7f14bfd985640a300b5a41de1996cc2754af32f7b"
    }
   }
  }
 },
 "nbformat": 4,
 "nbformat_minor": 2,
 "cells": [
  {
   "cell_type": "code",
   "execution_count": 1,
   "metadata": {},
   "outputs": [],
   "source": [
    "import tqdm as tqdm\n",
    "import requests"
   ]
  },
  {
   "cell_type": "code",
   "execution_count": 2,
   "metadata": {},
   "outputs": [],
   "source": [
    "from ejmr_scraper import page_urls\n",
    "from ejmr_scraper import thread_urls\n",
    "from ejmr_scraper import dump_page_content\n",
    "from ejmr_scraper import dump_thread_content"
   ]
  },
  {
   "cell_type": "code",
   "execution_count": 3,
   "metadata": {},
   "outputs": [],
   "source": [
    "test = page_urls(1, 1)"
   ]
  },
  {
   "cell_type": "code",
   "execution_count": 4,
   "metadata": {},
   "outputs": [
    {
     "output_type": "stream",
     "name": "stderr",
     "text": [
      "100%|██████████| 1/1 [00:08<00:00,  8.89s/it]\n"
     ]
    }
   ],
   "source": [
    "thread_dict = thread_urls(test)"
   ]
  },
  {
   "cell_type": "code",
   "execution_count": 5,
   "metadata": {},
   "outputs": [
    {
     "output_type": "execute_result",
     "data": {
      "text/plain": [
       "{'https://www.econjobrumors.com/topic/request-a-thread-to-be-deleted-here': 1,\n",
       " 'https://www.econjobrumors.com/topic/about-ejmr': 1,\n",
       " 'https://www.econjobrumors.com/topic/best-msc-econometrics': 1,\n",
       " 'https://www.econjobrumors.com/topic/funny-joke-on-autoadmit-re-coronavirus': 1,\n",
       " 'https://www.econjobrumors.com/topic/phd-with-the-possibility-of-getting-an-mba-for-free': 1,\n",
       " 'https://www.econjobrumors.com/topic/husband-dreamed-he-was-born-in-bloemfontein-and-wrote-the-lord-of-the-rings': 1,\n",
       " 'https://www.econjobrumors.com/topic/colleges-canceling-diversity-programs-in-response-to-orange-order': 3,\n",
       " 'https://www.econjobrumors.com/topic/a-militia-tried-to-kidnap-the-governor-of-michigan': 1,\n",
       " 'https://www.econjobrumors.com/topic/the-greatest-catholic-hero-of-the-last-1000-years-is': 2,\n",
       " 'https://www.econjobrumors.com/topic/fehr-and-list-for-nobel': 1,\n",
       " 'https://www.econjobrumors.com/topic/did-you-ever-sended-a-paper-to-the-qje': 1,\n",
       " 'https://www.econjobrumors.com/topic/happy-with-your-current-industry-job': 2,\n",
       " 'https://www.econjobrumors.com/topic/eff-murry-keel-a-o-c-hope-hicks-mcenany': 1,\n",
       " 'https://www.econjobrumors.com/topic/kids-are-expensive': 3,\n",
       " 'https://www.econjobrumors.com/topic/halliburton-goes-woke': 1,\n",
       " 'https://www.econjobrumors.com/topic/how-will-bidens-free-college-plan-work': 2,\n",
       " 'https://www.econjobrumors.com/topic/biding-ban-fracking-repeal-right-to-work-raise-taxes-green-new-deal': 1,\n",
       " 'https://www.econjobrumors.com/topic/foreign-students-1': 1,\n",
       " 'https://www.econjobrumors.com/topic/why-do-americans-dont-know-how-to-make-a-good-chocolate': 1,\n",
       " 'https://www.econjobrumors.com/topic/how-is-life-in-montana': 1,\n",
       " 'https://www.econjobrumors.com/topic/american-political-science-review-and-american-journal-of-political-science': 1,\n",
       " 'https://www.econjobrumors.com/topic/german-market': 2019,\n",
       " 'https://www.econjobrumors.com/topic/p-hacking-an-unpopular-opinion': 2,\n",
       " 'https://www.econjobrumors.com/topic/ubc-research-chair-in-behavioral-economics': 1,\n",
       " 'https://www.econjobrumors.com/topic/how-much-is-an-ounce-of-high-grade-pot-where-you-live': 1,\n",
       " 'https://www.econjobrumors.com/topic/why-do-illinois-residents-have-to-pay-four-times-the-price': 1,\n",
       " 'https://www.econjobrumors.com/topic/observation-women-love-rank-ordering-hardships-to-then-confer-special-treatment': 1,\n",
       " 'https://www.econjobrumors.com/topic/uber-offer': 1,\n",
       " 'https://www.econjobrumors.com/topic/disconnection-between-finance-industry-and-academia': 1,\n",
       " 'https://www.econjobrumors.com/topic/who-is-more-privileged': 1,\n",
       " 'https://www.econjobrumors.com/topic/fall-of-reg-monkeys': 1,\n",
       " 'https://www.econjobrumors.com/topic/why-are-american-colleges-insanely-overpriced': 2,\n",
       " 'https://www.econjobrumors.com/topic/tips-for-writing-exam-questions': 1,\n",
       " 'https://www.econjobrumors.com/topic/open-courses-by-usa-universities-europe-graduate-programs': 1,\n",
       " 'https://www.econjobrumors.com/topic/why-do-libswokes-not-care-about': 1,\n",
       " 'https://www.econjobrumors.com/topic/when-god-built-the-universe-6000-years-ago': 1,\n",
       " 'https://www.econjobrumors.com/topic/nejm-recommends-voting-dangerously-incompetent-potus-out-of-office': 2,\n",
       " 'https://www.econjobrumors.com/topic/why-do-companies-cares-about-cfa': 1,\n",
       " 'https://www.econjobrumors.com/topic/2019-2020-wisconsin-placements': 1,\n",
       " 'https://www.econjobrumors.com/topic/t-is-pushing-hard-to-release-her-emails': 1,\n",
       " 'https://www.econjobrumors.com/topic/how-many-interviews-have-you-received-so-far': 2,\n",
       " 'https://www.econjobrumors.com/topic/eric-so': 3}"
      ]
     },
     "metadata": {},
     "execution_count": 5
    }
   ],
   "source": [
    "thread_dict"
   ]
  },
  {
   "cell_type": "code",
   "execution_count": 9,
   "metadata": {
    "tags": []
   },
   "outputs": [
    {
     "output_type": "stream",
     "name": "stderr",
     "text": [
      "\n",
      "100%|██████████| 1/1 [00:00<00:00, 5548.02it/s]\n",
      "\n",
      "  0%|          | 0/3 [00:00<?, ?it/s]\u001b[A\n",
      " 33%|███▎      | 1/3 [00:06<00:12,  6.35s/it]\u001b[A\n",
      " 67%|██████▋   | 2/3 [00:09<00:05,  5.52s/it]\u001b[A\n",
      "100%|██████████| 3/3 [00:13<00:00,  4.40s/it]\n"
     ]
    }
   ],
   "source": [
    "thread_dump = dump_thread_content({'https://www.econjobrumors.com/topic/colleges-canceling-diversity-programs-in-response-to-orange-order':3}, 1)"
   ]
  },
  {
   "cell_type": "code",
   "execution_count": 8,
   "metadata": {},
   "outputs": [
    {
     "output_type": "execute_result",
     "data": {
      "text/plain": [
       "[<Response [200]>, <Response [200]>, <Response [200]>]"
      ]
     },
     "metadata": {},
     "execution_count": 8
    }
   ],
   "source": [
    "thread_dump"
   ]
  },
  {
   "cell_type": "code",
   "execution_count": null,
   "metadata": {},
   "outputs": [],
   "source": []
  }
 ]
}