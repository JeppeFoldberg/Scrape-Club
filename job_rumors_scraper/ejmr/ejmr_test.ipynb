{
 "metadata": {
  "language_info": {
   "codemirror_mode": {
    "name": "ipython",
    "version": 3
   },
   "file_extension": ".py",
   "mimetype": "text/x-python",
   "name": "python",
   "nbconvert_exporter": "python",
   "pygments_lexer": "ipython3",
   "version": "3.8.5-final"
  },
  "orig_nbformat": 2,
  "kernelspec": {
   "name": "Python 3.8.5 64-bit ('pyenv': conda)",
   "display_name": "Python 3.8.5 64-bit ('pyenv': conda)",
   "metadata": {
    "interpreter": {
     "hash": "fdd379f7bb8e06f7ec29e5b7f14bfd985640a300b5a41de1996cc2754af32f7b"
    }
   }
  }
 },
 "nbformat": 4,
 "nbformat_minor": 2,
 "cells": [
  {
   "cell_type": "code",
   "execution_count": 18,
   "metadata": {},
   "outputs": [],
   "source": [
    "from bs4 import BeautifulSoup\n",
    "import pandas as pd\n",
    "import re\n",
    "from tqdm import tqdm"
   ]
  },
  {
   "cell_type": "code",
   "execution_count": 4,
   "metadata": {},
   "outputs": [],
   "source": [
    "from ejmr_scraper import page_urls, thread_urls, dump_page_content, dump_thread_content, page_df, thread_df"
   ]
  },
  {
   "source": [
    "# Get page content"
   ],
   "cell_type": "markdown",
   "metadata": {}
  },
  {
   "cell_type": "code",
   "execution_count": 99,
   "metadata": {},
   "outputs": [],
   "source": [
    "p_urls = page_urls(1, 1) # range of urls"
   ]
  },
  {
   "cell_type": "code",
   "execution_count": 100,
   "metadata": {},
   "outputs": [
    {
     "output_type": "execute_result",
     "data": {
      "text/plain": [
       "['https://www.econjobrumors.com/']"
      ]
     },
     "metadata": {},
     "execution_count": 100
    }
   ],
   "source": [
    "p_urls"
   ]
  },
  {
   "cell_type": "code",
   "execution_count": 101,
   "metadata": {},
   "outputs": [
    {
     "output_type": "stream",
     "name": "stderr",
     "text": [
      "100%|██████████| 1/1 [00:00<00:00,  1.29it/s]\n"
     ]
    }
   ],
   "source": [
    "page_dump = dump_page_content(p_urls) # parse html. Second argument can be given to store locally"
   ]
  },
  {
   "cell_type": "code",
   "execution_count": 102,
   "metadata": {
    "tags": []
   },
   "outputs": [],
   "source": [
    "df = page_df(page_dump) # create pandas df"
   ]
  },
  {
   "source": [
    "# Get thread content"
   ],
   "cell_type": "markdown",
   "metadata": {}
  },
  {
   "cell_type": "code",
   "execution_count": 103,
   "metadata": {},
   "outputs": [
    {
     "output_type": "stream",
     "name": "stderr",
     "text": [
      "100%|██████████| 1/1 [00:00<00:00,  1.08it/s]\n"
     ]
    }
   ],
   "source": [
    "t_urls = thread_urls(p_urls) # take list of page urls and return list of thread urls for threads on each page"
   ]
  },
  {
   "cell_type": "code",
   "execution_count": 104,
   "metadata": {},
   "outputs": [
    {
     "output_type": "stream",
     "name": "stderr",
     "text": [
      "100%|██████████| 42/42 [03:10<00:00,  4.53s/it]\n"
     ]
    }
   ],
   "source": [
    "thread_dump = dump_thread_content(t_urls) # parse html. Second argument can be given to store locally"
   ]
  },
  {
   "cell_type": "code",
   "execution_count": 105,
   "metadata": {},
   "outputs": [
    {
     "output_type": "execute_result",
     "data": {
      "text/plain": [
       "41"
      ]
     },
     "metadata": {},
     "execution_count": 105
    }
   ],
   "source": [
    "len(thread_dump)"
   ]
  },
  {
   "cell_type": "code",
   "execution_count": 170,
   "metadata": {},
   "outputs": [],
   "source": [
    "def thread_df(thread_responses_list, store_locally = 0):\n",
    "    \"\"\"\n",
    "    Creates Pandas df with thread content.\n",
    "    Argument: list of thread html objects retrieved with dump_thread_content.\n",
    "    Returns: List with soup object. Each element is one page. If stored locally - dumps pickle file.\n",
    "    \"\"\"\n",
    "\n",
    "    \n",
    "\n",
    "    post_author = []\n",
    "    post_text = []\n",
    "    post_likes = []\n",
    "    post_dislikes = []\n",
    "    post_position = [] # the position in the thread\n",
    "    thread_name = []\n",
    "\n",
    "    soup_list = []\n",
    "    for thread in tqdm(thread_responses_list):\n",
    "        \n",
    "        soup = [BeautifulSoup(page.text, 'html.parser') for page in thread]\n",
    "        soup_list.append(soup)\n",
    "        \n",
    "    for thread in tqdm(soup_list):\n",
    "        \n",
    "        \n",
    "        for page in thread:\n",
    "            \n",
    "            \n",
    "            # get author\n",
    "            authors = page.find_all('div', {'class':'threadauthor'})  \n",
    "            [post_author.append(author.text) for author in authors]\n",
    "                    \n",
    "            # get text\n",
    "            posts = page.find_all('div', {'class':'post'})\n",
    "            [post_text.append(post.text) for post in posts]\n",
    "\n",
    "            # get post position\n",
    "            [post_position.append(position + 1) for position in range(len(authors))]\n",
    "            \n",
    "            # get title\n",
    "            titles = page.find('h2', {'class':'topictitle'}).text\n",
    "            for i in range(len(authors)):\n",
    "                thread_name.append(titles)\n",
    "\n",
    "\n",
    "\n",
    "    # create df\n",
    "    thread_df = pd.DataFrame(list(zip(post_author, thread_name, \n",
    "                                      post_text, post_position)), \n",
    "                                      columns =['author', 'tread_name', \n",
    "                                                'post_text', 'position'])\n",
    "\n",
    "\n",
    "    return thread_df"
   ]
  },
  {
   "cell_type": "code",
   "execution_count": 171,
   "metadata": {
    "tags": []
   },
   "outputs": [
    {
     "output_type": "stream",
     "name": "stderr",
     "text": [
      "100%|██████████| 41/41 [00:12<00:00,  3.26it/s]\n",
      "100%|██████████| 41/41 [00:02<00:00, 19.24it/s]\n"
     ]
    }
   ],
   "source": [
    "thread_df = thread_df(thread_dump)"
   ]
  },
  {
   "cell_type": "code",
   "execution_count": 174,
   "metadata": {},
   "outputs": [
    {
     "output_type": "execute_result",
     "data": {
      "text/plain": [
       "                       author  \\\n",
       "0     \\n\\nKirk\\nRep: 1530\\n\\n   \n",
       "1   \\n\\nEconomist\\n0796\\n\\n\\n   \n",
       "2   \\n\\nEconomist\\n606c\\n\\n\\n   \n",
       "3   \\n\\nEconomist\\n0796\\n\\n\\n   \n",
       "4   \\n\\nEconomist\\nf3e1\\n\\n\\n   \n",
       "5   \\n\\nEconomist\\nb8e6\\n\\n\\n   \n",
       "6   \\n\\nEconomist\\n89ca\\n\\n\\n   \n",
       "7   \\n\\nEconomist\\ncc79\\n\\n\\n   \n",
       "8   \\n\\nEconomist\\nc977\\n\\n\\n   \n",
       "9       \\n\\nCCbro\\nRep: 5\\n\\n   \n",
       "10  \\n\\nEconomist\\n0997\\n\\n\\n   \n",
       "11  \\n\\nEconomist\\n0e2c\\n\\n\\n   \n",
       "12  \\n\\nEconomist\\n9e1e\\n\\n\\n   \n",
       "13  \\n\\nEconomist\\nc07f\\n\\n\\n   \n",
       "14  \\n\\nEconomist\\n4bf8\\n\\n\\n   \n",
       "15  \\n\\nEconomist\\n8767\\n\\n\\n   \n",
       "16  \\n\\nEconomist\\n1777\\n\\n\\n   \n",
       "17  \\n\\nEconomist\\n1777\\n\\n\\n   \n",
       "18  \\n\\nEconomist\\na2b5\\n\\n\\n   \n",
       "19  \\n\\nEconomist\\nd52f\\n\\n\\n   \n",
       "20    \\n\\nKirk\\nRep: 1530\\n\\n   \n",
       "21  \\n\\nEconomist\\nbd4f\\n\\n\\n   \n",
       "22  \\n\\nEconomist\\n5e4a\\n\\n\\n   \n",
       "23  \\n\\nEconomist\\n5cb5\\n\\n\\n   \n",
       "24  \\n\\nEconomist\\nfb87\\n\\n\\n   \n",
       "25  \\n\\nEconomist\\n7512\\n\\n\\n   \n",
       "26  \\n\\nEconomist\\n7821\\n\\n\\n   \n",
       "27  \\n\\nEconomist\\ne8f4\\n\\n\\n   \n",
       "28  \\n\\nEconomist\\nf730\\n\\n\\n   \n",
       "29  \\n\\nEconomist\\nf730\\n\\n\\n   \n",
       "30  \\n\\nEconomist\\nf730\\n\\n\\n   \n",
       "31  \\n\\nEconomist\\ndca0\\n\\n\\n   \n",
       "32  \\n\\nEconomist\\na0c8\\n\\n\\n   \n",
       "33  \\n\\nEconomist\\n66bc\\n\\n\\n   \n",
       "34  \\n\\nEconomist\\n5350\\n\\n\\n   \n",
       "35  \\n\\nEconomist\\nff35\\n\\n\\n   \n",
       "36  \\n\\nEconomist\\nae53\\n\\n\\n   \n",
       "37  \\n\\nEconomist\\n83c1\\n\\n\\n   \n",
       "38  \\n\\nEconomist\\nc771\\n\\n\\n   \n",
       "39  \\n\\nEconomist\\n8459\\n\\n\\n   \n",
       "40  \\n\\nEconomist\\nd8c1\\n\\n\\n   \n",
       "41  \\n\\nEconomist\\nf3a8\\n\\n\\n   \n",
       "42  \\n\\nEconomist\\n8f3a\\n\\n\\n   \n",
       "43  \\n\\nEconomist\\n7c9d\\n\\n\\n   \n",
       "44  \\n\\nEconomist\\n6f56\\n\\n\\n   \n",
       "45  \\n\\nEconomist\\nb292\\n\\n\\n   \n",
       "46  \\n\\nEconomist\\nb292\\n\\n\\n   \n",
       "47  \\n\\nEconomist\\n440f\\n\\n\\n   \n",
       "48  \\n\\nEconomist\\nb8ff\\n\\n\\n   \n",
       "49  \\n\\nEconomist\\ncceb\\n\\n\\n   \n",
       "\n",
       "                                           tread_name  \\\n",
       "0                                   Moderation Policy   \n",
       "1                                   Moderation Policy   \n",
       "2                                   Moderation Policy   \n",
       "3                                   Moderation Policy   \n",
       "4                                   Moderation Policy   \n",
       "5                                   Moderation Policy   \n",
       "6                                   Moderation Policy   \n",
       "7                                   Moderation Policy   \n",
       "8                                   Moderation Policy   \n",
       "9                                   Moderation Policy   \n",
       "10                                  Moderation Policy   \n",
       "11                                  Moderation Policy   \n",
       "12                                  Moderation Policy   \n",
       "13                                  Moderation Policy   \n",
       "14                                  Moderation Policy   \n",
       "15                                  Moderation Policy   \n",
       "16                                  Moderation Policy   \n",
       "17                                  Moderation Policy   \n",
       "18                                  Moderation Policy   \n",
       "19                                  Moderation Policy   \n",
       "20                                         About EJMR   \n",
       "21                                         About EJMR   \n",
       "22                                         About EJMR   \n",
       "23                                         About EJMR   \n",
       "24                                         About EJMR   \n",
       "25                                         About EJMR   \n",
       "26                                         About EJMR   \n",
       "27         Any womyn smeell worse than a blax womyn??   \n",
       "28  Mitch McConnell: White House is \"paying the pr...   \n",
       "29  Mitch McConnell: White House is \"paying the pr...   \n",
       "30  Mitch McConnell: White House is \"paying the pr...   \n",
       "31  Mitch McConnell: White House is \"paying the pr...   \n",
       "32  Mitch McConnell: White House is \"paying the pr...   \n",
       "33  Mitch McConnell: White House is \"paying the pr...   \n",
       "34  Mitch McConnell: White House is \"paying the pr...   \n",
       "35  Mitch McConnell: White House is \"paying the pr...   \n",
       "36  Mitch McConnell: White House is \"paying the pr...   \n",
       "37  Mitch McConnell: White House is \"paying the pr...   \n",
       "38  Mitch McConnell: White House is \"paying the pr...   \n",
       "39  Mitch McConnell: White House is \"paying the pr...   \n",
       "40  Mitch McConnell: White House is \"paying the pr...   \n",
       "41  Mitch McConnell: White House is \"paying the pr...   \n",
       "42  Mitch McConnell: White House is \"paying the pr...   \n",
       "43  Mitch McConnell: White House is \"paying the pr...   \n",
       "44  Mitch McConnell: White House is \"paying the pr...   \n",
       "45  Mitch McConnell: White House is \"paying the pr...   \n",
       "46  Mitch McConnell: White House is \"paying the pr...   \n",
       "47  Mitch McConnell: White House is \"paying the pr...   \n",
       "48  Mitch McConnell: White House is \"paying the pr...   \n",
       "49  Mitch McConnell: White House is \"paying the pr...   \n",
       "\n",
       "                                            post_text  position  \n",
       "0   Hi all,\\nIf you believe a thread should be del...         1  \n",
       "1   \\nthe fundamental problem that one idiot posti...         2  \n",
       "2   \\nIf you seriously think the spammers won’t ju...         3  \n",
       "3   Also, you have a lot of very specific insight ...         4  \n",
       "4   Also, you have a lot of very specific insight ...         5  \n",
       "5   Also, you have a lot of very specific insight ...         6  \n",
       "6   Suggestion: How about mods start one mega-thre...         7  \n",
       "7   ^\\nI can tell you that I am far more likely to...         8  \n",
       "8   Reminder: Chinese trolls are active on this bo...         9  \n",
       "9   Can we please have “dingleberry” and variants ...        10  \n",
       "10  What are some cuss words allowed here? I want ...        11  \n",
       "11  Please restore. Bot is unkind again!!\\neconjob...        12  \n",
       "12  Please restore. Nothing untoward or low qualit...        13  \n",
       "13  There is a full lib tantrum on this site. Plea...        14  \n",
       "14  L//\\nI//\\nB//\\nS//\\nH//\\nI//\\nTs, do NOT delet...        15  \n",
       "15  Why was this deleted?\\nhttps://www.econjobrumo...        16  \n",
       "16  I would like to complain about moderation.\\nTh...        17  \n",
       "17  Please restore: Nobel Peace Prize. Did not vio...        18  \n",
       "18  Are we on the same EJMR?\\nI would like to comp...        19  \n",
       "19  I have noticed this too.\\nI would like to comp...        20  \n",
       "20  Q: Why should I visit this site?\\nA: There is ...         1  \n",
       "21  Hey Kirk, can you make the filters clickable o...         2  \n",
       "22  #To unlock this post, please activate your EJM...         3  \n",
       "23  Hey Kirk, can you make the filters clickable o...         4  \n",
       "24  Hey Kirk, can you make the filters clickable o...         5  \n",
       "25  Kirk, can we have an \"academia\" forum? For a l...         6  \n",
       "26  Request - Can you allow read-only access from ...         7  \n",
       "27                                                .\\n         1  \n",
       "28         Wow...even Mitch.\\nEt tu Mitch?...Et tu?\\n         1  \n",
       "29  Tump supporters start calling Mitch a leftist ...         2  \n",
       "30  https://www.newsweek.com/mcconnell-says-trump-...         3  \n",
       "31                     Mitch is obviously a marxist\\n         4  \n",
       "32  COVID is only a big deal for the elderly and d...         5  \n",
       "33                             Qanon predicted this\\n         6  \n",
       "34                   Mitch doesn't have good genes.\\n         7  \n",
       "35                                     Antifa Mitch\\n         8  \n",
       "36  Then why did it take 10 months for it to infec...         9  \n",
       "37  Mitch knows turnip is done. Party is already m...        10  \n",
       "38      Turtles are known for their long lifespans...        11  \n",
       "39  Mitch knows turnip is done. Party is already m...        12  \n",
       "40  Mitch knows turnip is done. Party is already m...        13  \n",
       "41  So let them. That’s their business. It’s like ...        14  \n",
       "42  It is weird that their lax behavior yielded no...        15  \n",
       "43  COVID is only a big deal for the elderly and d...        16  \n",
       "44  Wow...even Mitch.\\nEt tu Mitch?...Et tu?\\n\\nHe...        17  \n",
       "45  I was told by a union bigwig that Mitch was th...        18  \n",
       "46  Narcissist Trump will use Corona as his excuse...        19  \n",
       "47  The rats have started to flee the sinking ship.\\n        20  \n",
       "48  Going to the White House used to be a honor. N...         1  \n",
       "49  I’m a former republican never trumper who’s no...         2  "
      ],
      "text/html": "<div>\n<style scoped>\n    .dataframe tbody tr th:only-of-type {\n        vertical-align: middle;\n    }\n\n    .dataframe tbody tr th {\n        vertical-align: top;\n    }\n\n    .dataframe thead th {\n        text-align: right;\n    }\n</style>\n<table border=\"1\" class=\"dataframe\">\n  <thead>\n    <tr style=\"text-align: right;\">\n      <th></th>\n      <th>author</th>\n      <th>tread_name</th>\n      <th>post_text</th>\n      <th>position</th>\n    </tr>\n  </thead>\n  <tbody>\n    <tr>\n      <th>0</th>\n      <td>\\n\\nKirk\\nRep: 1530\\n\\n</td>\n      <td>Moderation Policy</td>\n      <td>Hi all,\\nIf you believe a thread should be del...</td>\n      <td>1</td>\n    </tr>\n    <tr>\n      <th>1</th>\n      <td>\\n\\nEconomist\\n0796\\n\\n\\n</td>\n      <td>Moderation Policy</td>\n      <td>\\nthe fundamental problem that one idiot posti...</td>\n      <td>2</td>\n    </tr>\n    <tr>\n      <th>2</th>\n      <td>\\n\\nEconomist\\n606c\\n\\n\\n</td>\n      <td>Moderation Policy</td>\n      <td>\\nIf you seriously think the spammers won’t ju...</td>\n      <td>3</td>\n    </tr>\n    <tr>\n      <th>3</th>\n      <td>\\n\\nEconomist\\n0796\\n\\n\\n</td>\n      <td>Moderation Policy</td>\n      <td>Also, you have a lot of very specific insight ...</td>\n      <td>4</td>\n    </tr>\n    <tr>\n      <th>4</th>\n      <td>\\n\\nEconomist\\nf3e1\\n\\n\\n</td>\n      <td>Moderation Policy</td>\n      <td>Also, you have a lot of very specific insight ...</td>\n      <td>5</td>\n    </tr>\n    <tr>\n      <th>5</th>\n      <td>\\n\\nEconomist\\nb8e6\\n\\n\\n</td>\n      <td>Moderation Policy</td>\n      <td>Also, you have a lot of very specific insight ...</td>\n      <td>6</td>\n    </tr>\n    <tr>\n      <th>6</th>\n      <td>\\n\\nEconomist\\n89ca\\n\\n\\n</td>\n      <td>Moderation Policy</td>\n      <td>Suggestion: How about mods start one mega-thre...</td>\n      <td>7</td>\n    </tr>\n    <tr>\n      <th>7</th>\n      <td>\\n\\nEconomist\\ncc79\\n\\n\\n</td>\n      <td>Moderation Policy</td>\n      <td>^\\nI can tell you that I am far more likely to...</td>\n      <td>8</td>\n    </tr>\n    <tr>\n      <th>8</th>\n      <td>\\n\\nEconomist\\nc977\\n\\n\\n</td>\n      <td>Moderation Policy</td>\n      <td>Reminder: Chinese trolls are active on this bo...</td>\n      <td>9</td>\n    </tr>\n    <tr>\n      <th>9</th>\n      <td>\\n\\nCCbro\\nRep: 5\\n\\n</td>\n      <td>Moderation Policy</td>\n      <td>Can we please have “dingleberry” and variants ...</td>\n      <td>10</td>\n    </tr>\n    <tr>\n      <th>10</th>\n      <td>\\n\\nEconomist\\n0997\\n\\n\\n</td>\n      <td>Moderation Policy</td>\n      <td>What are some cuss words allowed here? I want ...</td>\n      <td>11</td>\n    </tr>\n    <tr>\n      <th>11</th>\n      <td>\\n\\nEconomist\\n0e2c\\n\\n\\n</td>\n      <td>Moderation Policy</td>\n      <td>Please restore. Bot is unkind again!!\\neconjob...</td>\n      <td>12</td>\n    </tr>\n    <tr>\n      <th>12</th>\n      <td>\\n\\nEconomist\\n9e1e\\n\\n\\n</td>\n      <td>Moderation Policy</td>\n      <td>Please restore. Nothing untoward or low qualit...</td>\n      <td>13</td>\n    </tr>\n    <tr>\n      <th>13</th>\n      <td>\\n\\nEconomist\\nc07f\\n\\n\\n</td>\n      <td>Moderation Policy</td>\n      <td>There is a full lib tantrum on this site. Plea...</td>\n      <td>14</td>\n    </tr>\n    <tr>\n      <th>14</th>\n      <td>\\n\\nEconomist\\n4bf8\\n\\n\\n</td>\n      <td>Moderation Policy</td>\n      <td>L//\\nI//\\nB//\\nS//\\nH//\\nI//\\nTs, do NOT delet...</td>\n      <td>15</td>\n    </tr>\n    <tr>\n      <th>15</th>\n      <td>\\n\\nEconomist\\n8767\\n\\n\\n</td>\n      <td>Moderation Policy</td>\n      <td>Why was this deleted?\\nhttps://www.econjobrumo...</td>\n      <td>16</td>\n    </tr>\n    <tr>\n      <th>16</th>\n      <td>\\n\\nEconomist\\n1777\\n\\n\\n</td>\n      <td>Moderation Policy</td>\n      <td>I would like to complain about moderation.\\nTh...</td>\n      <td>17</td>\n    </tr>\n    <tr>\n      <th>17</th>\n      <td>\\n\\nEconomist\\n1777\\n\\n\\n</td>\n      <td>Moderation Policy</td>\n      <td>Please restore: Nobel Peace Prize. Did not vio...</td>\n      <td>18</td>\n    </tr>\n    <tr>\n      <th>18</th>\n      <td>\\n\\nEconomist\\na2b5\\n\\n\\n</td>\n      <td>Moderation Policy</td>\n      <td>Are we on the same EJMR?\\nI would like to comp...</td>\n      <td>19</td>\n    </tr>\n    <tr>\n      <th>19</th>\n      <td>\\n\\nEconomist\\nd52f\\n\\n\\n</td>\n      <td>Moderation Policy</td>\n      <td>I have noticed this too.\\nI would like to comp...</td>\n      <td>20</td>\n    </tr>\n    <tr>\n      <th>20</th>\n      <td>\\n\\nKirk\\nRep: 1530\\n\\n</td>\n      <td>About EJMR</td>\n      <td>Q: Why should I visit this site?\\nA: There is ...</td>\n      <td>1</td>\n    </tr>\n    <tr>\n      <th>21</th>\n      <td>\\n\\nEconomist\\nbd4f\\n\\n\\n</td>\n      <td>About EJMR</td>\n      <td>Hey Kirk, can you make the filters clickable o...</td>\n      <td>2</td>\n    </tr>\n    <tr>\n      <th>22</th>\n      <td>\\n\\nEconomist\\n5e4a\\n\\n\\n</td>\n      <td>About EJMR</td>\n      <td>#To unlock this post, please activate your EJM...</td>\n      <td>3</td>\n    </tr>\n    <tr>\n      <th>23</th>\n      <td>\\n\\nEconomist\\n5cb5\\n\\n\\n</td>\n      <td>About EJMR</td>\n      <td>Hey Kirk, can you make the filters clickable o...</td>\n      <td>4</td>\n    </tr>\n    <tr>\n      <th>24</th>\n      <td>\\n\\nEconomist\\nfb87\\n\\n\\n</td>\n      <td>About EJMR</td>\n      <td>Hey Kirk, can you make the filters clickable o...</td>\n      <td>5</td>\n    </tr>\n    <tr>\n      <th>25</th>\n      <td>\\n\\nEconomist\\n7512\\n\\n\\n</td>\n      <td>About EJMR</td>\n      <td>Kirk, can we have an \"academia\" forum? For a l...</td>\n      <td>6</td>\n    </tr>\n    <tr>\n      <th>26</th>\n      <td>\\n\\nEconomist\\n7821\\n\\n\\n</td>\n      <td>About EJMR</td>\n      <td>Request - Can you allow read-only access from ...</td>\n      <td>7</td>\n    </tr>\n    <tr>\n      <th>27</th>\n      <td>\\n\\nEconomist\\ne8f4\\n\\n\\n</td>\n      <td>Any womyn smeell worse than a blax womyn??</td>\n      <td>.\\n</td>\n      <td>1</td>\n    </tr>\n    <tr>\n      <th>28</th>\n      <td>\\n\\nEconomist\\nf730\\n\\n\\n</td>\n      <td>Mitch McConnell: White House is \"paying the pr...</td>\n      <td>Wow...even Mitch.\\nEt tu Mitch?...Et tu?\\n</td>\n      <td>1</td>\n    </tr>\n    <tr>\n      <th>29</th>\n      <td>\\n\\nEconomist\\nf730\\n\\n\\n</td>\n      <td>Mitch McConnell: White House is \"paying the pr...</td>\n      <td>Tump supporters start calling Mitch a leftist ...</td>\n      <td>2</td>\n    </tr>\n    <tr>\n      <th>30</th>\n      <td>\\n\\nEconomist\\nf730\\n\\n\\n</td>\n      <td>Mitch McConnell: White House is \"paying the pr...</td>\n      <td>https://www.newsweek.com/mcconnell-says-trump-...</td>\n      <td>3</td>\n    </tr>\n    <tr>\n      <th>31</th>\n      <td>\\n\\nEconomist\\ndca0\\n\\n\\n</td>\n      <td>Mitch McConnell: White House is \"paying the pr...</td>\n      <td>Mitch is obviously a marxist\\n</td>\n      <td>4</td>\n    </tr>\n    <tr>\n      <th>32</th>\n      <td>\\n\\nEconomist\\na0c8\\n\\n\\n</td>\n      <td>Mitch McConnell: White House is \"paying the pr...</td>\n      <td>COVID is only a big deal for the elderly and d...</td>\n      <td>5</td>\n    </tr>\n    <tr>\n      <th>33</th>\n      <td>\\n\\nEconomist\\n66bc\\n\\n\\n</td>\n      <td>Mitch McConnell: White House is \"paying the pr...</td>\n      <td>Qanon predicted this\\n</td>\n      <td>6</td>\n    </tr>\n    <tr>\n      <th>34</th>\n      <td>\\n\\nEconomist\\n5350\\n\\n\\n</td>\n      <td>Mitch McConnell: White House is \"paying the pr...</td>\n      <td>Mitch doesn't have good genes.\\n</td>\n      <td>7</td>\n    </tr>\n    <tr>\n      <th>35</th>\n      <td>\\n\\nEconomist\\nff35\\n\\n\\n</td>\n      <td>Mitch McConnell: White House is \"paying the pr...</td>\n      <td>Antifa Mitch\\n</td>\n      <td>8</td>\n    </tr>\n    <tr>\n      <th>36</th>\n      <td>\\n\\nEconomist\\nae53\\n\\n\\n</td>\n      <td>Mitch McConnell: White House is \"paying the pr...</td>\n      <td>Then why did it take 10 months for it to infec...</td>\n      <td>9</td>\n    </tr>\n    <tr>\n      <th>37</th>\n      <td>\\n\\nEconomist\\n83c1\\n\\n\\n</td>\n      <td>Mitch McConnell: White House is \"paying the pr...</td>\n      <td>Mitch knows turnip is done. Party is already m...</td>\n      <td>10</td>\n    </tr>\n    <tr>\n      <th>38</th>\n      <td>\\n\\nEconomist\\nc771\\n\\n\\n</td>\n      <td>Mitch McConnell: White House is \"paying the pr...</td>\n      <td>Turtles are known for their long lifespans...</td>\n      <td>11</td>\n    </tr>\n    <tr>\n      <th>39</th>\n      <td>\\n\\nEconomist\\n8459\\n\\n\\n</td>\n      <td>Mitch McConnell: White House is \"paying the pr...</td>\n      <td>Mitch knows turnip is done. Party is already m...</td>\n      <td>12</td>\n    </tr>\n    <tr>\n      <th>40</th>\n      <td>\\n\\nEconomist\\nd8c1\\n\\n\\n</td>\n      <td>Mitch McConnell: White House is \"paying the pr...</td>\n      <td>Mitch knows turnip is done. Party is already m...</td>\n      <td>13</td>\n    </tr>\n    <tr>\n      <th>41</th>\n      <td>\\n\\nEconomist\\nf3a8\\n\\n\\n</td>\n      <td>Mitch McConnell: White House is \"paying the pr...</td>\n      <td>So let them. That’s their business. It’s like ...</td>\n      <td>14</td>\n    </tr>\n    <tr>\n      <th>42</th>\n      <td>\\n\\nEconomist\\n8f3a\\n\\n\\n</td>\n      <td>Mitch McConnell: White House is \"paying the pr...</td>\n      <td>It is weird that their lax behavior yielded no...</td>\n      <td>15</td>\n    </tr>\n    <tr>\n      <th>43</th>\n      <td>\\n\\nEconomist\\n7c9d\\n\\n\\n</td>\n      <td>Mitch McConnell: White House is \"paying the pr...</td>\n      <td>COVID is only a big deal for the elderly and d...</td>\n      <td>16</td>\n    </tr>\n    <tr>\n      <th>44</th>\n      <td>\\n\\nEconomist\\n6f56\\n\\n\\n</td>\n      <td>Mitch McConnell: White House is \"paying the pr...</td>\n      <td>Wow...even Mitch.\\nEt tu Mitch?...Et tu?\\n\\nHe...</td>\n      <td>17</td>\n    </tr>\n    <tr>\n      <th>45</th>\n      <td>\\n\\nEconomist\\nb292\\n\\n\\n</td>\n      <td>Mitch McConnell: White House is \"paying the pr...</td>\n      <td>I was told by a union bigwig that Mitch was th...</td>\n      <td>18</td>\n    </tr>\n    <tr>\n      <th>46</th>\n      <td>\\n\\nEconomist\\nb292\\n\\n\\n</td>\n      <td>Mitch McConnell: White House is \"paying the pr...</td>\n      <td>Narcissist Trump will use Corona as his excuse...</td>\n      <td>19</td>\n    </tr>\n    <tr>\n      <th>47</th>\n      <td>\\n\\nEconomist\\n440f\\n\\n\\n</td>\n      <td>Mitch McConnell: White House is \"paying the pr...</td>\n      <td>The rats have started to flee the sinking ship.\\n</td>\n      <td>20</td>\n    </tr>\n    <tr>\n      <th>48</th>\n      <td>\\n\\nEconomist\\nb8ff\\n\\n\\n</td>\n      <td>Mitch McConnell: White House is \"paying the pr...</td>\n      <td>Going to the White House used to be a honor. N...</td>\n      <td>1</td>\n    </tr>\n    <tr>\n      <th>49</th>\n      <td>\\n\\nEconomist\\ncceb\\n\\n\\n</td>\n      <td>Mitch McConnell: White House is \"paying the pr...</td>\n      <td>I’m a former republican never trumper who’s no...</td>\n      <td>2</td>\n    </tr>\n  </tbody>\n</table>\n</div>"
     },
     "metadata": {},
     "execution_count": 174
    }
   ],
   "source": [
    "thread_df.head(50)"
   ]
  },
  {
   "cell_type": "code",
   "execution_count": null,
   "metadata": {},
   "outputs": [],
   "source": []
  }
 ]
}