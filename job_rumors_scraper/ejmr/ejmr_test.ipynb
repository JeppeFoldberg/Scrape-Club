{
 "metadata": {
  "language_info": {
   "codemirror_mode": {
    "name": "ipython",
    "version": 3
   },
   "file_extension": ".py",
   "mimetype": "text/x-python",
   "name": "python",
   "nbconvert_exporter": "python",
   "pygments_lexer": "ipython3",
   "version": "3.8.5-final"
  },
  "orig_nbformat": 2,
  "kernelspec": {
   "name": "Python 3.8.5 64-bit ('pyenv': conda)",
   "display_name": "Python 3.8.5 64-bit ('pyenv': conda)",
   "metadata": {
    "interpreter": {
     "hash": "fdd379f7bb8e06f7ec29e5b7f14bfd985640a300b5a41de1996cc2754af32f7b"
    }
   }
  }
 },
 "nbformat": 4,
 "nbformat_minor": 2,
 "cells": [
  {
   "cell_type": "code",
   "execution_count": 17,
   "metadata": {},
   "outputs": [],
   "source": [
    "from bs4 import BeautifulSoup\n",
    "import pandas as pd"
   ]
  },
  {
   "cell_type": "code",
   "execution_count": 18,
   "metadata": {},
   "outputs": [],
   "source": [
    "from ejmr_scraper import page_urls, thread_urls, dump_page_content, dump_thread_content, page_df"
   ]
  },
  {
   "cell_type": "code",
   "execution_count": 24,
   "metadata": {},
   "outputs": [],
   "source": [
    "urls = page_urls(1, 50)"
   ]
  },
  {
   "cell_type": "code",
   "execution_count": 25,
   "metadata": {},
   "outputs": [
    {
     "output_type": "stream",
     "name": "stderr",
     "text": [
      "100%|██████████| 50/50 [00:59<00:00,  1.20s/it]\n"
     ]
    }
   ],
   "source": [
    "page_dump = dump_page_content(urls)"
   ]
  },
  {
   "cell_type": "code",
   "execution_count": 26,
   "metadata": {
    "tags": []
   },
   "outputs": [],
   "source": [
    "df = page_df(page_dump)"
   ]
  },
  {
   "cell_type": "code",
   "execution_count": 28,
   "metadata": {},
   "outputs": [
    {
     "output_type": "execute_result",
     "data": {
      "text/plain": [
       "                                                title  posts     views  \\\n",
       "0                                   Moderation Policy     20    607926   \n",
       "1                                          About EJMR      7    203057   \n",
       "2                   Official Marketing JM 2021 Thread   2319    126781   \n",
       "3     What could the EU do to be more like a country?     40       915   \n",
       "4          22% of all US dollars were created in 2020      8       186   \n",
       "5   Wisconsin has superb faculty that's on par wit...      5       126   \n",
       "6                                   Another rejection     13       480   \n",
       "7            Official Thread for Brazilian Economists   2598    108647   \n",
       "8   We need a 15-year moratorium on economics Nobe...     14       370   \n",
       "9                       Accounting 2020-21 Job Market    710     66977   \n",
       "10                                      German Market  40396  11018875   \n",
       "11  Esther Duflo said treat reject and resubmit as...     33      1205   \n",
       "12         Best lrm for economic consulting placement      8       240   \n",
       "13  Surprise, surprise: the entire Cambridge Analy...      6       211   \n",
       "14  Sitting on $400K and I'd like to invest. Shoul...     15       294   \n",
       "15                    Japanese PhD students in the US     23       681   \n",
       "16                    American Express Plutonium Card     20       657   \n",
       "17         Do Stantcheva and Andrews hate each other?     21      1062   \n",
       "18                            Fehr and List for Nobel     22       907   \n",
       "19                 Turkish Market [Turkish & English]   2622    169412   \n",
       "20                    Has Cambridge Analytica called?     16       664   \n",
       "21  Taiwan is Taiwan. Taiwan has nothing to do wit...     63      2353   \n",
       "22                   Larry Summers and Anna Stansbury     72      4277   \n",
       "23                          My paper have been reject      7       346   \n",
       "24                                         I hate SAS     54     10546   \n",
       "25    So what is the main rationale behind diversity?     55      1097   \n",
       "26                             More Quant Lies, Fraud      2       248   \n",
       "27                     Is Cambridge Analytica hiring?     17       530   \n",
       "28     Finance JMC with accountant journal RR or pub?      9       201   \n",
       "29  I do not know wny people value solo-authored p...     29      1193   \n",
       "30                 Qing  Lebron has destroyed the NBA      9       308   \n",
       "31                             My Patrick Ewing story      8       240   \n",
       "32  Has anyone here sat on the Comet or any rare o...      6        72   \n",
       "33              Florida beaches vs California beaches     47      1213   \n",
       "34                   Who here has positive net worth?     19       498   \n",
       "35                           2020 Wisconsin placement     29      1463   \n",
       "36                                        JFE dispute     17      2679   \n",
       "37  Is anybody else unable to comprehend the conce...      1        64   \n",
       "38                      Finance faculty -- car choice     16       595   \n",
       "39                   Japan suicides 6X covid19 deaths      9       287   \n",
       "40  A new marketing / consumer research scandal on...   1700     97885   \n",
       "41  Bigger Nobel snub: Rosalind Franklin or Feng Z...     18       748   \n",
       "42          My advisor promised me 1/4 of his fortune     16       889   \n",
       "43                                  Gifts to advisors     33      1015   \n",
       "44                          Any 2021 jmc with rr yet?     53      2784   \n",
       "45                                  Is New York over?     25       658   \n",
       "46   Let me explain to you how the stock market works      7       203   \n",
       "47  Suggest an optimization text other than Luenbe...     19      1957   \n",
       "48         UBC Research Chair in Behavioral Economics     15       614   \n",
       "49                         USD is pretty much a stock      1        73   \n",
       "\n",
       "    positive_votes  negative_votes  vote_ratio latest_post  \n",
       "0                1               0    1.000000    12 hours  \n",
       "1               47              67    0.412281    2 months  \n",
       "2                0              29    0.000000   3 minutes  \n",
       "3                1               1    0.500000   3 minutes  \n",
       "4                0               0         NaN   5 minutes  \n",
       "5                0               0         NaN  18 minutes  \n",
       "6                7               1    0.875000  20 minutes  \n",
       "7                7              16    0.304348  26 minutes  \n",
       "8                9               0    1.000000  31 minutes  \n",
       "9                3               0    1.000000  32 minutes  \n",
       "10             545             289    0.653477  33 minutes  \n",
       "11               0               0         NaN  36 minutes  \n",
       "12               0               2    0.000000  37 minutes  \n",
       "13               0               0         NaN  37 minutes  \n",
       "14               0               0         NaN  38 minutes  \n",
       "15               6               5    0.545455  40 minutes  \n",
       "16               1               0    1.000000  41 minutes  \n",
       "17               5               3    0.625000  43 minutes  \n",
       "18               3               4    0.428571  44 minutes  \n",
       "19              10              19    0.344828  44 minutes  \n",
       "20               6               0    1.000000      1 hour  \n",
       "21              25              39    0.390625      1 hour  \n",
       "22              18               3    0.857143      1 hour  \n",
       "23               0               0         NaN      1 hour  \n",
       "24              24               6    0.800000      1 hour  \n",
       "25               8               2    0.800000      1 hour  \n",
       "26               0               0         NaN      1 hour  \n",
       "27               4               1    0.800000      1 hour  \n",
       "28               0               0         NaN      1 hour  \n",
       "29               3              30    0.090909      1 hour  \n",
       "30               1               1    0.500000      1 hour  \n",
       "31               1               1    0.500000      1 hour  \n",
       "32               0               0         NaN      1 hour  \n",
       "33               1               0    1.000000      1 hour  \n",
       "34              16               1    0.941176      1 hour  \n",
       "35               0               3    0.000000      1 hour  \n",
       "36               0               0         NaN     2 hours  \n",
       "37               0               0         NaN     2 hours  \n",
       "38               5               1    0.833333     2 hours  \n",
       "39               1               0    1.000000     2 hours  \n",
       "40              21               0    1.000000     2 hours  \n",
       "41               2               1    0.666667     2 hours  \n",
       "42              27               1    0.964286     2 hours  \n",
       "43               0               4    0.000000     2 hours  \n",
       "44               0               2    0.000000     2 hours  \n",
       "45               0               1    0.000000     3 hours  \n",
       "46               3               0    1.000000     3 hours  \n",
       "47               2               0    1.000000     3 hours  \n",
       "48               1               0    1.000000     3 hours  \n",
       "49               0               0         NaN     3 hours  "
      ],
      "text/html": "<div>\n<style scoped>\n    .dataframe tbody tr th:only-of-type {\n        vertical-align: middle;\n    }\n\n    .dataframe tbody tr th {\n        vertical-align: top;\n    }\n\n    .dataframe thead th {\n        text-align: right;\n    }\n</style>\n<table border=\"1\" class=\"dataframe\">\n  <thead>\n    <tr style=\"text-align: right;\">\n      <th></th>\n      <th>title</th>\n      <th>posts</th>\n      <th>views</th>\n      <th>positive_votes</th>\n      <th>negative_votes</th>\n      <th>vote_ratio</th>\n      <th>latest_post</th>\n    </tr>\n  </thead>\n  <tbody>\n    <tr>\n      <th>0</th>\n      <td>Moderation Policy</td>\n      <td>20</td>\n      <td>607926</td>\n      <td>1</td>\n      <td>0</td>\n      <td>1.000000</td>\n      <td>12 hours</td>\n    </tr>\n    <tr>\n      <th>1</th>\n      <td>About EJMR</td>\n      <td>7</td>\n      <td>203057</td>\n      <td>47</td>\n      <td>67</td>\n      <td>0.412281</td>\n      <td>2 months</td>\n    </tr>\n    <tr>\n      <th>2</th>\n      <td>Official Marketing JM 2021 Thread</td>\n      <td>2319</td>\n      <td>126781</td>\n      <td>0</td>\n      <td>29</td>\n      <td>0.000000</td>\n      <td>3 minutes</td>\n    </tr>\n    <tr>\n      <th>3</th>\n      <td>What could the EU do to be more like a country?</td>\n      <td>40</td>\n      <td>915</td>\n      <td>1</td>\n      <td>1</td>\n      <td>0.500000</td>\n      <td>3 minutes</td>\n    </tr>\n    <tr>\n      <th>4</th>\n      <td>22% of all US dollars were created in 2020</td>\n      <td>8</td>\n      <td>186</td>\n      <td>0</td>\n      <td>0</td>\n      <td>NaN</td>\n      <td>5 minutes</td>\n    </tr>\n    <tr>\n      <th>5</th>\n      <td>Wisconsin has superb faculty that's on par wit...</td>\n      <td>5</td>\n      <td>126</td>\n      <td>0</td>\n      <td>0</td>\n      <td>NaN</td>\n      <td>18 minutes</td>\n    </tr>\n    <tr>\n      <th>6</th>\n      <td>Another rejection</td>\n      <td>13</td>\n      <td>480</td>\n      <td>7</td>\n      <td>1</td>\n      <td>0.875000</td>\n      <td>20 minutes</td>\n    </tr>\n    <tr>\n      <th>7</th>\n      <td>Official Thread for Brazilian Economists</td>\n      <td>2598</td>\n      <td>108647</td>\n      <td>7</td>\n      <td>16</td>\n      <td>0.304348</td>\n      <td>26 minutes</td>\n    </tr>\n    <tr>\n      <th>8</th>\n      <td>We need a 15-year moratorium on economics Nobe...</td>\n      <td>14</td>\n      <td>370</td>\n      <td>9</td>\n      <td>0</td>\n      <td>1.000000</td>\n      <td>31 minutes</td>\n    </tr>\n    <tr>\n      <th>9</th>\n      <td>Accounting 2020-21 Job Market</td>\n      <td>710</td>\n      <td>66977</td>\n      <td>3</td>\n      <td>0</td>\n      <td>1.000000</td>\n      <td>32 minutes</td>\n    </tr>\n    <tr>\n      <th>10</th>\n      <td>German Market</td>\n      <td>40396</td>\n      <td>11018875</td>\n      <td>545</td>\n      <td>289</td>\n      <td>0.653477</td>\n      <td>33 minutes</td>\n    </tr>\n    <tr>\n      <th>11</th>\n      <td>Esther Duflo said treat reject and resubmit as...</td>\n      <td>33</td>\n      <td>1205</td>\n      <td>0</td>\n      <td>0</td>\n      <td>NaN</td>\n      <td>36 minutes</td>\n    </tr>\n    <tr>\n      <th>12</th>\n      <td>Best lrm for economic consulting placement</td>\n      <td>8</td>\n      <td>240</td>\n      <td>0</td>\n      <td>2</td>\n      <td>0.000000</td>\n      <td>37 minutes</td>\n    </tr>\n    <tr>\n      <th>13</th>\n      <td>Surprise, surprise: the entire Cambridge Analy...</td>\n      <td>6</td>\n      <td>211</td>\n      <td>0</td>\n      <td>0</td>\n      <td>NaN</td>\n      <td>37 minutes</td>\n    </tr>\n    <tr>\n      <th>14</th>\n      <td>Sitting on $400K and I'd like to invest. Shoul...</td>\n      <td>15</td>\n      <td>294</td>\n      <td>0</td>\n      <td>0</td>\n      <td>NaN</td>\n      <td>38 minutes</td>\n    </tr>\n    <tr>\n      <th>15</th>\n      <td>Japanese PhD students in the US</td>\n      <td>23</td>\n      <td>681</td>\n      <td>6</td>\n      <td>5</td>\n      <td>0.545455</td>\n      <td>40 minutes</td>\n    </tr>\n    <tr>\n      <th>16</th>\n      <td>American Express Plutonium Card</td>\n      <td>20</td>\n      <td>657</td>\n      <td>1</td>\n      <td>0</td>\n      <td>1.000000</td>\n      <td>41 minutes</td>\n    </tr>\n    <tr>\n      <th>17</th>\n      <td>Do Stantcheva and Andrews hate each other?</td>\n      <td>21</td>\n      <td>1062</td>\n      <td>5</td>\n      <td>3</td>\n      <td>0.625000</td>\n      <td>43 minutes</td>\n    </tr>\n    <tr>\n      <th>18</th>\n      <td>Fehr and List for Nobel</td>\n      <td>22</td>\n      <td>907</td>\n      <td>3</td>\n      <td>4</td>\n      <td>0.428571</td>\n      <td>44 minutes</td>\n    </tr>\n    <tr>\n      <th>19</th>\n      <td>Turkish Market [Turkish &amp; English]</td>\n      <td>2622</td>\n      <td>169412</td>\n      <td>10</td>\n      <td>19</td>\n      <td>0.344828</td>\n      <td>44 minutes</td>\n    </tr>\n    <tr>\n      <th>20</th>\n      <td>Has Cambridge Analytica called?</td>\n      <td>16</td>\n      <td>664</td>\n      <td>6</td>\n      <td>0</td>\n      <td>1.000000</td>\n      <td>1 hour</td>\n    </tr>\n    <tr>\n      <th>21</th>\n      <td>Taiwan is Taiwan. Taiwan has nothing to do wit...</td>\n      <td>63</td>\n      <td>2353</td>\n      <td>25</td>\n      <td>39</td>\n      <td>0.390625</td>\n      <td>1 hour</td>\n    </tr>\n    <tr>\n      <th>22</th>\n      <td>Larry Summers and Anna Stansbury</td>\n      <td>72</td>\n      <td>4277</td>\n      <td>18</td>\n      <td>3</td>\n      <td>0.857143</td>\n      <td>1 hour</td>\n    </tr>\n    <tr>\n      <th>23</th>\n      <td>My paper have been reject</td>\n      <td>7</td>\n      <td>346</td>\n      <td>0</td>\n      <td>0</td>\n      <td>NaN</td>\n      <td>1 hour</td>\n    </tr>\n    <tr>\n      <th>24</th>\n      <td>I hate SAS</td>\n      <td>54</td>\n      <td>10546</td>\n      <td>24</td>\n      <td>6</td>\n      <td>0.800000</td>\n      <td>1 hour</td>\n    </tr>\n    <tr>\n      <th>25</th>\n      <td>So what is the main rationale behind diversity?</td>\n      <td>55</td>\n      <td>1097</td>\n      <td>8</td>\n      <td>2</td>\n      <td>0.800000</td>\n      <td>1 hour</td>\n    </tr>\n    <tr>\n      <th>26</th>\n      <td>More Quant Lies, Fraud</td>\n      <td>2</td>\n      <td>248</td>\n      <td>0</td>\n      <td>0</td>\n      <td>NaN</td>\n      <td>1 hour</td>\n    </tr>\n    <tr>\n      <th>27</th>\n      <td>Is Cambridge Analytica hiring?</td>\n      <td>17</td>\n      <td>530</td>\n      <td>4</td>\n      <td>1</td>\n      <td>0.800000</td>\n      <td>1 hour</td>\n    </tr>\n    <tr>\n      <th>28</th>\n      <td>Finance JMC with accountant journal RR or pub?</td>\n      <td>9</td>\n      <td>201</td>\n      <td>0</td>\n      <td>0</td>\n      <td>NaN</td>\n      <td>1 hour</td>\n    </tr>\n    <tr>\n      <th>29</th>\n      <td>I do not know wny people value solo-authored p...</td>\n      <td>29</td>\n      <td>1193</td>\n      <td>3</td>\n      <td>30</td>\n      <td>0.090909</td>\n      <td>1 hour</td>\n    </tr>\n    <tr>\n      <th>30</th>\n      <td>Qing  Lebron has destroyed the NBA</td>\n      <td>9</td>\n      <td>308</td>\n      <td>1</td>\n      <td>1</td>\n      <td>0.500000</td>\n      <td>1 hour</td>\n    </tr>\n    <tr>\n      <th>31</th>\n      <td>My Patrick Ewing story</td>\n      <td>8</td>\n      <td>240</td>\n      <td>1</td>\n      <td>1</td>\n      <td>0.500000</td>\n      <td>1 hour</td>\n    </tr>\n    <tr>\n      <th>32</th>\n      <td>Has anyone here sat on the Comet or any rare o...</td>\n      <td>6</td>\n      <td>72</td>\n      <td>0</td>\n      <td>0</td>\n      <td>NaN</td>\n      <td>1 hour</td>\n    </tr>\n    <tr>\n      <th>33</th>\n      <td>Florida beaches vs California beaches</td>\n      <td>47</td>\n      <td>1213</td>\n      <td>1</td>\n      <td>0</td>\n      <td>1.000000</td>\n      <td>1 hour</td>\n    </tr>\n    <tr>\n      <th>34</th>\n      <td>Who here has positive net worth?</td>\n      <td>19</td>\n      <td>498</td>\n      <td>16</td>\n      <td>1</td>\n      <td>0.941176</td>\n      <td>1 hour</td>\n    </tr>\n    <tr>\n      <th>35</th>\n      <td>2020 Wisconsin placement</td>\n      <td>29</td>\n      <td>1463</td>\n      <td>0</td>\n      <td>3</td>\n      <td>0.000000</td>\n      <td>1 hour</td>\n    </tr>\n    <tr>\n      <th>36</th>\n      <td>JFE dispute</td>\n      <td>17</td>\n      <td>2679</td>\n      <td>0</td>\n      <td>0</td>\n      <td>NaN</td>\n      <td>2 hours</td>\n    </tr>\n    <tr>\n      <th>37</th>\n      <td>Is anybody else unable to comprehend the conce...</td>\n      <td>1</td>\n      <td>64</td>\n      <td>0</td>\n      <td>0</td>\n      <td>NaN</td>\n      <td>2 hours</td>\n    </tr>\n    <tr>\n      <th>38</th>\n      <td>Finance faculty -- car choice</td>\n      <td>16</td>\n      <td>595</td>\n      <td>5</td>\n      <td>1</td>\n      <td>0.833333</td>\n      <td>2 hours</td>\n    </tr>\n    <tr>\n      <th>39</th>\n      <td>Japan suicides 6X covid19 deaths</td>\n      <td>9</td>\n      <td>287</td>\n      <td>1</td>\n      <td>0</td>\n      <td>1.000000</td>\n      <td>2 hours</td>\n    </tr>\n    <tr>\n      <th>40</th>\n      <td>A new marketing / consumer research scandal on...</td>\n      <td>1700</td>\n      <td>97885</td>\n      <td>21</td>\n      <td>0</td>\n      <td>1.000000</td>\n      <td>2 hours</td>\n    </tr>\n    <tr>\n      <th>41</th>\n      <td>Bigger Nobel snub: Rosalind Franklin or Feng Z...</td>\n      <td>18</td>\n      <td>748</td>\n      <td>2</td>\n      <td>1</td>\n      <td>0.666667</td>\n      <td>2 hours</td>\n    </tr>\n    <tr>\n      <th>42</th>\n      <td>My advisor promised me 1/4 of his fortune</td>\n      <td>16</td>\n      <td>889</td>\n      <td>27</td>\n      <td>1</td>\n      <td>0.964286</td>\n      <td>2 hours</td>\n    </tr>\n    <tr>\n      <th>43</th>\n      <td>Gifts to advisors</td>\n      <td>33</td>\n      <td>1015</td>\n      <td>0</td>\n      <td>4</td>\n      <td>0.000000</td>\n      <td>2 hours</td>\n    </tr>\n    <tr>\n      <th>44</th>\n      <td>Any 2021 jmc with rr yet?</td>\n      <td>53</td>\n      <td>2784</td>\n      <td>0</td>\n      <td>2</td>\n      <td>0.000000</td>\n      <td>2 hours</td>\n    </tr>\n    <tr>\n      <th>45</th>\n      <td>Is New York over?</td>\n      <td>25</td>\n      <td>658</td>\n      <td>0</td>\n      <td>1</td>\n      <td>0.000000</td>\n      <td>3 hours</td>\n    </tr>\n    <tr>\n      <th>46</th>\n      <td>Let me explain to you how the stock market works</td>\n      <td>7</td>\n      <td>203</td>\n      <td>3</td>\n      <td>0</td>\n      <td>1.000000</td>\n      <td>3 hours</td>\n    </tr>\n    <tr>\n      <th>47</th>\n      <td>Suggest an optimization text other than Luenbe...</td>\n      <td>19</td>\n      <td>1957</td>\n      <td>2</td>\n      <td>0</td>\n      <td>1.000000</td>\n      <td>3 hours</td>\n    </tr>\n    <tr>\n      <th>48</th>\n      <td>UBC Research Chair in Behavioral Economics</td>\n      <td>15</td>\n      <td>614</td>\n      <td>1</td>\n      <td>0</td>\n      <td>1.000000</td>\n      <td>3 hours</td>\n    </tr>\n    <tr>\n      <th>49</th>\n      <td>USD is pretty much a stock</td>\n      <td>1</td>\n      <td>73</td>\n      <td>0</td>\n      <td>0</td>\n      <td>NaN</td>\n      <td>3 hours</td>\n    </tr>\n  </tbody>\n</table>\n</div>"
     },
     "metadata": {},
     "execution_count": 28
    }
   ],
   "source": [
    "df.head(50)"
   ]
  },
  {
   "cell_type": "code",
   "execution_count": null,
   "metadata": {},
   "outputs": [],
   "source": []
  }
 ]
}