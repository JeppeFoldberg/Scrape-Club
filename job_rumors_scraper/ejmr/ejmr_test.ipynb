{
 "metadata": {
  "language_info": {
   "codemirror_mode": {
    "name": "ipython",
    "version": 3
   },
   "file_extension": ".py",
   "mimetype": "text/x-python",
   "name": "python",
   "nbconvert_exporter": "python",
   "pygments_lexer": "ipython3",
   "version": "3.8.5-final"
  },
  "orig_nbformat": 2,
  "kernelspec": {
   "name": "Python 3.8.5 64-bit ('pyenv': conda)",
   "display_name": "Python 3.8.5 64-bit ('pyenv': conda)",
   "metadata": {
    "interpreter": {
     "hash": "fdd379f7bb8e06f7ec29e5b7f14bfd985640a300b5a41de1996cc2754af32f7b"
    }
   }
  }
 },
 "nbformat": 4,
 "nbformat_minor": 2,
 "cells": [
  {
   "cell_type": "code",
   "execution_count": 1,
   "metadata": {},
   "outputs": [],
   "source": [
    "from bs4 import BeautifulSoup\n",
    "import pandas as pd\n",
    "import re\n",
    "from tqdm import tqdm\n",
    "import numpy as np"
   ]
  },
  {
   "cell_type": "code",
   "execution_count": 2,
   "metadata": {},
   "outputs": [],
   "source": [
    "from ejmr_scraper import page_urls, thread_urls, dump_page_content, dump_thread_content, page_df, thread_df"
   ]
  },
  {
   "source": [
    "# Get page content"
   ],
   "cell_type": "markdown",
   "metadata": {}
  },
  {
   "cell_type": "code",
   "execution_count": 4,
   "metadata": {},
   "outputs": [],
   "source": [
    "p_urls = page_urls(1, 4) # range of urls"
   ]
  },
  {
   "cell_type": "code",
   "execution_count": 5,
   "metadata": {},
   "outputs": [
    {
     "output_type": "execute_result",
     "data": {
      "text/plain": [
       "['https://www.econjobrumors.com/',\n",
       " 'https://www.econjobrumors.com/page/2',\n",
       " 'https://www.econjobrumors.com/page/3',\n",
       " 'https://www.econjobrumors.com/page/4']"
      ]
     },
     "metadata": {},
     "execution_count": 5
    }
   ],
   "source": [
    "p_urls"
   ]
  },
  {
   "cell_type": "code",
   "execution_count": 6,
   "metadata": {},
   "outputs": [
    {
     "output_type": "stream",
     "name": "stderr",
     "text": [
      "100%|██████████| 4/4 [00:04<00:00,  1.05s/it]\n"
     ]
    }
   ],
   "source": [
    "page_dump = dump_page_content(p_urls) # parse html. Second argument can be given to store locally"
   ]
  },
  {
   "cell_type": "code",
   "execution_count": 7,
   "metadata": {
    "tags": []
   },
   "outputs": [],
   "source": [
    "df = page_df(page_dump) # create pandas df"
   ]
  },
  {
   "cell_type": "code",
   "execution_count": 8,
   "metadata": {},
   "outputs": [
    {
     "output_type": "execute_result",
     "data": {
      "text/plain": [
       "                                                title  posts   views  \\\n",
       "0                                   Moderation Policy     21  608045   \n",
       "1                                          About EJMR      7  203153   \n",
       "2   Harvard business school names an indian as its...     10     206   \n",
       "3   Fairfax school board eliminates admissions tes...     22     421   \n",
       "4              Clearest sign that time series is dead     23     725   \n",
       "5                            My whole life is in zoom     12     295   \n",
       "6          Experiments are dead as the research field      6     126   \n",
       "7                How will the US pay for all of this?     12     217   \n",
       "8                                  Tech vs Med School      2      37   \n",
       "9   I do not know wny people value solo-authored p...     62    2617   \n",
       "10            Are the VAR models the best macro tool?     27     603   \n",
       "11                 Turkish Market [Turkish & English]   2639  170604   \n",
       "12                                       I have Covid     27     513   \n",
       "13  What is the point of ever paying the federal d...      4      97   \n",
       "14           Official Thread for Brazilian Economists   2608  109321   \n",
       "15  Realistically, what mental activity will incre...     18     343   \n",
       "16     Mean age covid death 82, all other mean age 81     23     479   \n",
       "17                  MRM unfunded phd - where to apply     25     556   \n",
       "18       Government stimulus = supply side economics?      5      58   \n",
       "19  Do reg monkeys have an inferiority complex tow...     46     947   \n",
       "20           Editor here: review times are exploding!      8     524   \n",
       "21                  Regression approaches are flawed.      3     521   \n",
       "22   Paid $150 & the paper is with editor for 45 days      3     117   \n",
       "23          Do you ever get waves of missing someone?     21     685   \n",
       "24  Is Lavazza coffee good by decent standards, i....      7     225   \n",
       "\n",
       "    positive_votes  negative_votes  vote_ratio latest_post  \n",
       "0                1               0    1.000000      1 hour  \n",
       "1               47              67    0.412281    2 months  \n",
       "2                2               3    0.400000  16 seconds  \n",
       "3                0               0         NaN  40 seconds  \n",
       "4                7               1    0.875000    1 minute  \n",
       "5                5               0    1.000000   8 minutes  \n",
       "6                0               0         NaN  11 minutes  \n",
       "7                2               0    1.000000  16 minutes  \n",
       "8                0               0         NaN  17 minutes  \n",
       "9                4              50    0.074074  25 minutes  \n",
       "10               1               1    0.500000  30 minutes  \n",
       "11              10              19    0.344828  32 minutes  \n",
       "12               1               2    0.333333  44 minutes  \n",
       "13               1               0    1.000000  45 minutes  \n",
       "14               7              16    0.304348  50 minutes  \n",
       "15               0               0         NaN  57 minutes  \n",
       "16               1               1    0.500000  57 minutes  \n",
       "17               1               1    0.500000  58 minutes  \n",
       "18               0               0         NaN      1 hour  \n",
       "19               8               1    0.888889      1 hour  \n",
       "20               1               0    1.000000      1 hour  \n",
       "21               0               0         NaN      1 hour  \n",
       "22               0               0         NaN      1 hour  \n",
       "23               8               0    1.000000      1 hour  \n",
       "24               0               0         NaN      1 hour  "
      ],
      "text/html": "<div>\n<style scoped>\n    .dataframe tbody tr th:only-of-type {\n        vertical-align: middle;\n    }\n\n    .dataframe tbody tr th {\n        vertical-align: top;\n    }\n\n    .dataframe thead th {\n        text-align: right;\n    }\n</style>\n<table border=\"1\" class=\"dataframe\">\n  <thead>\n    <tr style=\"text-align: right;\">\n      <th></th>\n      <th>title</th>\n      <th>posts</th>\n      <th>views</th>\n      <th>positive_votes</th>\n      <th>negative_votes</th>\n      <th>vote_ratio</th>\n      <th>latest_post</th>\n    </tr>\n  </thead>\n  <tbody>\n    <tr>\n      <th>0</th>\n      <td>Moderation Policy</td>\n      <td>21</td>\n      <td>608045</td>\n      <td>1</td>\n      <td>0</td>\n      <td>1.000000</td>\n      <td>1 hour</td>\n    </tr>\n    <tr>\n      <th>1</th>\n      <td>About EJMR</td>\n      <td>7</td>\n      <td>203153</td>\n      <td>47</td>\n      <td>67</td>\n      <td>0.412281</td>\n      <td>2 months</td>\n    </tr>\n    <tr>\n      <th>2</th>\n      <td>Harvard business school names an indian as its...</td>\n      <td>10</td>\n      <td>206</td>\n      <td>2</td>\n      <td>3</td>\n      <td>0.400000</td>\n      <td>16 seconds</td>\n    </tr>\n    <tr>\n      <th>3</th>\n      <td>Fairfax school board eliminates admissions tes...</td>\n      <td>22</td>\n      <td>421</td>\n      <td>0</td>\n      <td>0</td>\n      <td>NaN</td>\n      <td>40 seconds</td>\n    </tr>\n    <tr>\n      <th>4</th>\n      <td>Clearest sign that time series is dead</td>\n      <td>23</td>\n      <td>725</td>\n      <td>7</td>\n      <td>1</td>\n      <td>0.875000</td>\n      <td>1 minute</td>\n    </tr>\n    <tr>\n      <th>5</th>\n      <td>My whole life is in zoom</td>\n      <td>12</td>\n      <td>295</td>\n      <td>5</td>\n      <td>0</td>\n      <td>1.000000</td>\n      <td>8 minutes</td>\n    </tr>\n    <tr>\n      <th>6</th>\n      <td>Experiments are dead as the research field</td>\n      <td>6</td>\n      <td>126</td>\n      <td>0</td>\n      <td>0</td>\n      <td>NaN</td>\n      <td>11 minutes</td>\n    </tr>\n    <tr>\n      <th>7</th>\n      <td>How will the US pay for all of this?</td>\n      <td>12</td>\n      <td>217</td>\n      <td>2</td>\n      <td>0</td>\n      <td>1.000000</td>\n      <td>16 minutes</td>\n    </tr>\n    <tr>\n      <th>8</th>\n      <td>Tech vs Med School</td>\n      <td>2</td>\n      <td>37</td>\n      <td>0</td>\n      <td>0</td>\n      <td>NaN</td>\n      <td>17 minutes</td>\n    </tr>\n    <tr>\n      <th>9</th>\n      <td>I do not know wny people value solo-authored p...</td>\n      <td>62</td>\n      <td>2617</td>\n      <td>4</td>\n      <td>50</td>\n      <td>0.074074</td>\n      <td>25 minutes</td>\n    </tr>\n    <tr>\n      <th>10</th>\n      <td>Are the VAR models the best macro tool?</td>\n      <td>27</td>\n      <td>603</td>\n      <td>1</td>\n      <td>1</td>\n      <td>0.500000</td>\n      <td>30 minutes</td>\n    </tr>\n    <tr>\n      <th>11</th>\n      <td>Turkish Market [Turkish &amp; English]</td>\n      <td>2639</td>\n      <td>170604</td>\n      <td>10</td>\n      <td>19</td>\n      <td>0.344828</td>\n      <td>32 minutes</td>\n    </tr>\n    <tr>\n      <th>12</th>\n      <td>I have Covid</td>\n      <td>27</td>\n      <td>513</td>\n      <td>1</td>\n      <td>2</td>\n      <td>0.333333</td>\n      <td>44 minutes</td>\n    </tr>\n    <tr>\n      <th>13</th>\n      <td>What is the point of ever paying the federal d...</td>\n      <td>4</td>\n      <td>97</td>\n      <td>1</td>\n      <td>0</td>\n      <td>1.000000</td>\n      <td>45 minutes</td>\n    </tr>\n    <tr>\n      <th>14</th>\n      <td>Official Thread for Brazilian Economists</td>\n      <td>2608</td>\n      <td>109321</td>\n      <td>7</td>\n      <td>16</td>\n      <td>0.304348</td>\n      <td>50 minutes</td>\n    </tr>\n    <tr>\n      <th>15</th>\n      <td>Realistically, what mental activity will incre...</td>\n      <td>18</td>\n      <td>343</td>\n      <td>0</td>\n      <td>0</td>\n      <td>NaN</td>\n      <td>57 minutes</td>\n    </tr>\n    <tr>\n      <th>16</th>\n      <td>Mean age covid death 82, all other mean age 81</td>\n      <td>23</td>\n      <td>479</td>\n      <td>1</td>\n      <td>1</td>\n      <td>0.500000</td>\n      <td>57 minutes</td>\n    </tr>\n    <tr>\n      <th>17</th>\n      <td>MRM unfunded phd - where to apply</td>\n      <td>25</td>\n      <td>556</td>\n      <td>1</td>\n      <td>1</td>\n      <td>0.500000</td>\n      <td>58 minutes</td>\n    </tr>\n    <tr>\n      <th>18</th>\n      <td>Government stimulus = supply side economics?</td>\n      <td>5</td>\n      <td>58</td>\n      <td>0</td>\n      <td>0</td>\n      <td>NaN</td>\n      <td>1 hour</td>\n    </tr>\n    <tr>\n      <th>19</th>\n      <td>Do reg monkeys have an inferiority complex tow...</td>\n      <td>46</td>\n      <td>947</td>\n      <td>8</td>\n      <td>1</td>\n      <td>0.888889</td>\n      <td>1 hour</td>\n    </tr>\n    <tr>\n      <th>20</th>\n      <td>Editor here: review times are exploding!</td>\n      <td>8</td>\n      <td>524</td>\n      <td>1</td>\n      <td>0</td>\n      <td>1.000000</td>\n      <td>1 hour</td>\n    </tr>\n    <tr>\n      <th>21</th>\n      <td>Regression approaches are flawed.</td>\n      <td>3</td>\n      <td>521</td>\n      <td>0</td>\n      <td>0</td>\n      <td>NaN</td>\n      <td>1 hour</td>\n    </tr>\n    <tr>\n      <th>22</th>\n      <td>Paid $150 &amp; the paper is with editor for 45 days</td>\n      <td>3</td>\n      <td>117</td>\n      <td>0</td>\n      <td>0</td>\n      <td>NaN</td>\n      <td>1 hour</td>\n    </tr>\n    <tr>\n      <th>23</th>\n      <td>Do you ever get waves of missing someone?</td>\n      <td>21</td>\n      <td>685</td>\n      <td>8</td>\n      <td>0</td>\n      <td>1.000000</td>\n      <td>1 hour</td>\n    </tr>\n    <tr>\n      <th>24</th>\n      <td>Is Lavazza coffee good by decent standards, i....</td>\n      <td>7</td>\n      <td>225</td>\n      <td>0</td>\n      <td>0</td>\n      <td>NaN</td>\n      <td>1 hour</td>\n    </tr>\n  </tbody>\n</table>\n</div>"
     },
     "metadata": {},
     "execution_count": 8
    }
   ],
   "source": [
    "df.head(25)"
   ]
  },
  {
   "source": [
    "# Get thread content"
   ],
   "cell_type": "markdown",
   "metadata": {}
  },
  {
   "cell_type": "code",
   "execution_count": 9,
   "metadata": {},
   "outputs": [
    {
     "output_type": "stream",
     "name": "stderr",
     "text": [
      "100%|██████████| 4/4 [00:02<00:00,  1.46it/s]\n"
     ]
    }
   ],
   "source": [
    "t_urls = thread_urls(p_urls) # take list of page urls and return list of thread urls for threads on each page"
   ]
  },
  {
   "cell_type": "code",
   "execution_count": 10,
   "metadata": {},
   "outputs": [
    {
     "output_type": "stream",
     "name": "stderr",
     "text": [
      "100%|██████████| 162/162 [11:10<00:00,  4.14s/it]\n"
     ]
    }
   ],
   "source": [
    "thread_dump = dump_thread_content(t_urls) # parse html. Second argument can be given to store locally"
   ]
  },
  {
   "cell_type": "code",
   "execution_count": 11,
   "metadata": {
    "tags": []
   },
   "outputs": [
    {
     "output_type": "stream",
     "name": "stderr",
     "text": [
      "100%|██████████| 159/159 [00:30<00:00,  5.14it/s]\n",
      "100%|██████████| 159/159 [00:17<00:00,  9.32it/s]\n"
     ]
    }
   ],
   "source": [
    "thread_df = thread_df(thread_dump)"
   ]
  },
  {
   "cell_type": "code",
   "execution_count": 18,
   "metadata": {},
   "outputs": [
    {
     "output_type": "execute_result",
     "data": {
      "text/plain": [
       "      author author_rep                                tread_name  \\\n",
       "0       Kirk  Rep: 1530                         Moderation Policy   \n",
       "1       0796        NaN                         Moderation Policy   \n",
       "2       606c        NaN                         Moderation Policy   \n",
       "3       0796        NaN                         Moderation Policy   \n",
       "4       f3e1        NaN                         Moderation Policy   \n",
       "...      ...        ...                                       ...   \n",
       "15113   f4f4        NaN  Why do people mock high school dropouts?   \n",
       "15114   d673        NaN  Why do people mock high school dropouts?   \n",
       "15115   da6b        NaN  Why do people mock high school dropouts?   \n",
       "15116   dfdd        NaN  Why do people mock high school dropouts?   \n",
       "15117   0a1f        NaN  Why do people mock high school dropouts?   \n",
       "\n",
       "                                               post_text  post_likes  \\\n",
       "0      Hi all,\\nIf you believe a thread should be del...           0   \n",
       "1      \\nthe fundamental problem that one idiot posti...           6   \n",
       "2      \\nIf you seriously think the spammers won’t ju...           0   \n",
       "3      Also, you have a lot of very specific insight ...           5   \n",
       "4      Also, you have a lot of very specific insight ...           0   \n",
       "...                                                  ...         ...   \n",
       "15113  It's not that we mock high school dropouts, in...           3   \n",
       "15114  On a burger flipping forum, academics could be...           1   \n",
       "15115  I never understood why HS dropouts post here. ...           1   \n",
       "15116  sthefu karl\\nThis is neuroshaming. If they con...           0   \n",
       "15117  On a burger flipping forum, academics could be...           0   \n",
       "\n",
       "       post_dislikes       post_age  position  \n",
       "0                  0   9 years ago          1  \n",
       "1                  2    1 year ago          2  \n",
       "2                  4    1 year ago          3  \n",
       "3                  3    1 year ago          4  \n",
       "4                  6    1 year ago          5  \n",
       "...              ...            ...       ...  \n",
       "15113              1  15 hours ago          2  \n",
       "15114              0  14 hours ago          3  \n",
       "15115              0  14 hours ago          4  \n",
       "15116              0  14 hours ago          5  \n",
       "15117              0  14 hours ago          6  \n",
       "\n",
       "[15118 rows x 8 columns]"
      ],
      "text/html": "<div>\n<style scoped>\n    .dataframe tbody tr th:only-of-type {\n        vertical-align: middle;\n    }\n\n    .dataframe tbody tr th {\n        vertical-align: top;\n    }\n\n    .dataframe thead th {\n        text-align: right;\n    }\n</style>\n<table border=\"1\" class=\"dataframe\">\n  <thead>\n    <tr style=\"text-align: right;\">\n      <th></th>\n      <th>author</th>\n      <th>author_rep</th>\n      <th>tread_name</th>\n      <th>post_text</th>\n      <th>post_likes</th>\n      <th>post_dislikes</th>\n      <th>post_age</th>\n      <th>position</th>\n    </tr>\n  </thead>\n  <tbody>\n    <tr>\n      <th>0</th>\n      <td>Kirk</td>\n      <td>Rep: 1530</td>\n      <td>Moderation Policy</td>\n      <td>Hi all,\\nIf you believe a thread should be del...</td>\n      <td>0</td>\n      <td>0</td>\n      <td>9 years ago</td>\n      <td>1</td>\n    </tr>\n    <tr>\n      <th>1</th>\n      <td>0796</td>\n      <td>NaN</td>\n      <td>Moderation Policy</td>\n      <td>\\nthe fundamental problem that one idiot posti...</td>\n      <td>6</td>\n      <td>2</td>\n      <td>1 year ago</td>\n      <td>2</td>\n    </tr>\n    <tr>\n      <th>2</th>\n      <td>606c</td>\n      <td>NaN</td>\n      <td>Moderation Policy</td>\n      <td>\\nIf you seriously think the spammers won’t ju...</td>\n      <td>0</td>\n      <td>4</td>\n      <td>1 year ago</td>\n      <td>3</td>\n    </tr>\n    <tr>\n      <th>3</th>\n      <td>0796</td>\n      <td>NaN</td>\n      <td>Moderation Policy</td>\n      <td>Also, you have a lot of very specific insight ...</td>\n      <td>5</td>\n      <td>3</td>\n      <td>1 year ago</td>\n      <td>4</td>\n    </tr>\n    <tr>\n      <th>4</th>\n      <td>f3e1</td>\n      <td>NaN</td>\n      <td>Moderation Policy</td>\n      <td>Also, you have a lot of very specific insight ...</td>\n      <td>0</td>\n      <td>6</td>\n      <td>1 year ago</td>\n      <td>5</td>\n    </tr>\n    <tr>\n      <th>...</th>\n      <td>...</td>\n      <td>...</td>\n      <td>...</td>\n      <td>...</td>\n      <td>...</td>\n      <td>...</td>\n      <td>...</td>\n      <td>...</td>\n    </tr>\n    <tr>\n      <th>15113</th>\n      <td>f4f4</td>\n      <td>NaN</td>\n      <td>Why do people mock high school dropouts?</td>\n      <td>It's not that we mock high school dropouts, in...</td>\n      <td>3</td>\n      <td>1</td>\n      <td>15 hours ago</td>\n      <td>2</td>\n    </tr>\n    <tr>\n      <th>15114</th>\n      <td>d673</td>\n      <td>NaN</td>\n      <td>Why do people mock high school dropouts?</td>\n      <td>On a burger flipping forum, academics could be...</td>\n      <td>1</td>\n      <td>0</td>\n      <td>14 hours ago</td>\n      <td>3</td>\n    </tr>\n    <tr>\n      <th>15115</th>\n      <td>da6b</td>\n      <td>NaN</td>\n      <td>Why do people mock high school dropouts?</td>\n      <td>I never understood why HS dropouts post here. ...</td>\n      <td>1</td>\n      <td>0</td>\n      <td>14 hours ago</td>\n      <td>4</td>\n    </tr>\n    <tr>\n      <th>15116</th>\n      <td>dfdd</td>\n      <td>NaN</td>\n      <td>Why do people mock high school dropouts?</td>\n      <td>sthefu karl\\nThis is neuroshaming. If they con...</td>\n      <td>0</td>\n      <td>0</td>\n      <td>14 hours ago</td>\n      <td>5</td>\n    </tr>\n    <tr>\n      <th>15117</th>\n      <td>0a1f</td>\n      <td>NaN</td>\n      <td>Why do people mock high school dropouts?</td>\n      <td>On a burger flipping forum, academics could be...</td>\n      <td>0</td>\n      <td>0</td>\n      <td>14 hours ago</td>\n      <td>6</td>\n    </tr>\n  </tbody>\n</table>\n<p>15118 rows × 8 columns</p>\n</div>"
     },
     "metadata": {},
     "execution_count": 18
    }
   ],
   "source": [
    "thread_df"
   ]
  },
  {
   "cell_type": "code",
   "execution_count": 20,
   "metadata": {},
   "outputs": [
    {
     "output_type": "execute_result",
     "data": {
      "text/plain": [
       "      author author_rep                                      tread_name  \\\n",
       "21      Kirk  Rep: 1530                                      About EJMR   \n",
       "13073   f6de        NaN          1.5 years into coediting AEJ: Applied,   \n",
       "9812    c7a3        NaN                              Phd ruined my life   \n",
       "15073   48ba        NaN               Did you order the Desk Rejection?   \n",
       "7371    7acb        NaN                                 Fryer suspended   \n",
       "...      ...        ...                                             ...   \n",
       "5512    6675        NaN  Mean age covid death 82, all other mean age 81   \n",
       "5515    194a        NaN  Mean age covid death 82, all other mean age 81   \n",
       "5516    bbfa        NaN  Mean age covid death 82, all other mean age 81   \n",
       "5517    900b        NaN  Mean age covid death 82, all other mean age 81   \n",
       "15117   0a1f        NaN        Why do people mock high school dropouts?   \n",
       "\n",
       "                                               post_text  post_likes  \\\n",
       "21     Q: Why should I visit this site?\\nA: There is ...         109   \n",
       "13073  Hi everybody-\\nDavid Deming here. (I don't kno...          72   \n",
       "9812   i'm old now\\nno experience\\nterrible topic\\nno...          56   \n",
       "15073  Young AP: *Professor Barro, did you order the ...          49   \n",
       "7371   Harvard insider here. This is pathetic. The in...          48   \n",
       "...                                                  ...         ...   \n",
       "5512   Presumably the counterfactual we care about is...           0   \n",
       "5515   OP is missing something here. THe deaths in UK...           0   \n",
       "5516   The mean age of covid19 death is the same in m...           0   \n",
       "5517                      oh no dead boomers so sad :(\\n           0   \n",
       "15117  On a burger flipping forum, academics could be...           0   \n",
       "\n",
       "       post_dislikes       post_age  position  \n",
       "21                82   7 years ago          1  \n",
       "13073              0    1 year ago         10  \n",
       "9812               4   6 years ago          1  \n",
       "15073              5   6 years ago          1  \n",
       "7371               7    1 year ago         11  \n",
       "...              ...            ...       ...  \n",
       "5512               0   6 hours ago         13  \n",
       "5515               0   2 hours ago         16  \n",
       "5516               0   2 hours ago         17  \n",
       "5517               0   2 hours ago         18  \n",
       "15117              0  14 hours ago          6  \n",
       "\n",
       "[15118 rows x 8 columns]"
      ],
      "text/html": "<div>\n<style scoped>\n    .dataframe tbody tr th:only-of-type {\n        vertical-align: middle;\n    }\n\n    .dataframe tbody tr th {\n        vertical-align: top;\n    }\n\n    .dataframe thead th {\n        text-align: right;\n    }\n</style>\n<table border=\"1\" class=\"dataframe\">\n  <thead>\n    <tr style=\"text-align: right;\">\n      <th></th>\n      <th>author</th>\n      <th>author_rep</th>\n      <th>tread_name</th>\n      <th>post_text</th>\n      <th>post_likes</th>\n      <th>post_dislikes</th>\n      <th>post_age</th>\n      <th>position</th>\n    </tr>\n  </thead>\n  <tbody>\n    <tr>\n      <th>21</th>\n      <td>Kirk</td>\n      <td>Rep: 1530</td>\n      <td>About EJMR</td>\n      <td>Q: Why should I visit this site?\\nA: There is ...</td>\n      <td>109</td>\n      <td>82</td>\n      <td>7 years ago</td>\n      <td>1</td>\n    </tr>\n    <tr>\n      <th>13073</th>\n      <td>f6de</td>\n      <td>NaN</td>\n      <td>1.5 years into coediting AEJ: Applied,</td>\n      <td>Hi everybody-\\nDavid Deming here. (I don't kno...</td>\n      <td>72</td>\n      <td>0</td>\n      <td>1 year ago</td>\n      <td>10</td>\n    </tr>\n    <tr>\n      <th>9812</th>\n      <td>c7a3</td>\n      <td>NaN</td>\n      <td>Phd ruined my life</td>\n      <td>i'm old now\\nno experience\\nterrible topic\\nno...</td>\n      <td>56</td>\n      <td>4</td>\n      <td>6 years ago</td>\n      <td>1</td>\n    </tr>\n    <tr>\n      <th>15073</th>\n      <td>48ba</td>\n      <td>NaN</td>\n      <td>Did you order the Desk Rejection?</td>\n      <td>Young AP: *Professor Barro, did you order the ...</td>\n      <td>49</td>\n      <td>5</td>\n      <td>6 years ago</td>\n      <td>1</td>\n    </tr>\n    <tr>\n      <th>7371</th>\n      <td>7acb</td>\n      <td>NaN</td>\n      <td>Fryer suspended</td>\n      <td>Harvard insider here. This is pathetic. The in...</td>\n      <td>48</td>\n      <td>7</td>\n      <td>1 year ago</td>\n      <td>11</td>\n    </tr>\n    <tr>\n      <th>...</th>\n      <td>...</td>\n      <td>...</td>\n      <td>...</td>\n      <td>...</td>\n      <td>...</td>\n      <td>...</td>\n      <td>...</td>\n      <td>...</td>\n    </tr>\n    <tr>\n      <th>5512</th>\n      <td>6675</td>\n      <td>NaN</td>\n      <td>Mean age covid death 82, all other mean age 81</td>\n      <td>Presumably the counterfactual we care about is...</td>\n      <td>0</td>\n      <td>0</td>\n      <td>6 hours ago</td>\n      <td>13</td>\n    </tr>\n    <tr>\n      <th>5515</th>\n      <td>194a</td>\n      <td>NaN</td>\n      <td>Mean age covid death 82, all other mean age 81</td>\n      <td>OP is missing something here. THe deaths in UK...</td>\n      <td>0</td>\n      <td>0</td>\n      <td>2 hours ago</td>\n      <td>16</td>\n    </tr>\n    <tr>\n      <th>5516</th>\n      <td>bbfa</td>\n      <td>NaN</td>\n      <td>Mean age covid death 82, all other mean age 81</td>\n      <td>The mean age of covid19 death is the same in m...</td>\n      <td>0</td>\n      <td>0</td>\n      <td>2 hours ago</td>\n      <td>17</td>\n    </tr>\n    <tr>\n      <th>5517</th>\n      <td>900b</td>\n      <td>NaN</td>\n      <td>Mean age covid death 82, all other mean age 81</td>\n      <td>oh no dead boomers so sad :(\\n</td>\n      <td>0</td>\n      <td>0</td>\n      <td>2 hours ago</td>\n      <td>18</td>\n    </tr>\n    <tr>\n      <th>15117</th>\n      <td>0a1f</td>\n      <td>NaN</td>\n      <td>Why do people mock high school dropouts?</td>\n      <td>On a burger flipping forum, academics could be...</td>\n      <td>0</td>\n      <td>0</td>\n      <td>14 hours ago</td>\n      <td>6</td>\n    </tr>\n  </tbody>\n</table>\n<p>15118 rows × 8 columns</p>\n</div>"
     },
     "metadata": {},
     "execution_count": 20
    }
   ],
   "source": [
    "thread_df.sort_values(by = 'post_likes', ascending = False)"
   ]
  },
  {
   "cell_type": "code",
   "execution_count": null,
   "metadata": {},
   "outputs": [],
   "source": []
  }
 ]
}