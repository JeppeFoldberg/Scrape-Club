{
 "metadata": {
  "language_info": {
   "codemirror_mode": {
    "name": "ipython",
    "version": 3
   },
   "file_extension": ".py",
   "mimetype": "text/x-python",
   "name": "python",
   "nbconvert_exporter": "python",
   "pygments_lexer": "ipython3",
   "version": "3.8.5-final"
  },
  "orig_nbformat": 2,
  "kernelspec": {
   "name": "Python 3.8.5 64-bit ('pyenv': conda)",
   "display_name": "Python 3.8.5 64-bit ('pyenv': conda)",
   "metadata": {
    "interpreter": {
     "hash": "fdd379f7bb8e06f7ec29e5b7f14bfd985640a300b5a41de1996cc2754af32f7b"
    }
   }
  }
 },
 "nbformat": 4,
 "nbformat_minor": 2,
 "cells": [
  {
   "cell_type": "code",
   "execution_count": 1,
   "metadata": {},
   "outputs": [],
   "source": [
    "import tqdm as tqdm\n",
    "import requests"
   ]
  },
  {
   "cell_type": "code",
   "execution_count": 2,
   "metadata": {},
   "outputs": [],
   "source": [
    "from ejmr_scraper import page_urls\n",
    "from ejmr_scraper import thread_urls\n",
    "from ejmr_scraper import dump_page_content"
   ]
  },
  {
   "cell_type": "code",
   "execution_count": 3,
   "metadata": {},
   "outputs": [],
   "source": [
    "test = page_urls(1, 1)"
   ]
  },
  {
   "cell_type": "code",
   "execution_count": 4,
   "metadata": {},
   "outputs": [
    {
     "output_type": "stream",
     "name": "stderr",
     "text": [
      "100%|██████████| 1/1 [00:01<00:00,  1.65s/it]\n"
     ]
    },
    {
     "output_type": "execute_result",
     "data": {
      "text/plain": [
       "{'https://www.econjobrumors.com/topic/request-a-thread-to-be-deleted-here': 1,\n",
       " 'https://www.econjobrumors.com/topic/about-ejmr': 1,\n",
       " 'https://www.econjobrumors.com/topic/any-successful-lobotomies': 1,\n",
       " 'https://www.econjobrumors.com/topic/tump-backing-out-of-debate-1': 1,\n",
       " 'https://www.econjobrumors.com/topic/seriously-who-won-the-debates-yesterday': 1,\n",
       " 'https://www.econjobrumors.com/topic/student-objects-to-blackboard-calculated-answer-questions': 1,\n",
       " 'https://www.econjobrumors.com/topic/why-do-illinois-residents-have-to-pay-four-times-the-price': 1,\n",
       " 'https://www.econjobrumors.com/topic/how-much-is-an-ounce-of-high-grade-pot-where-you-live': 1,\n",
       " 'https://www.econjobrumors.com/topic/colleges-canceling-diversity-programs-in-response-to-orange-order': 2,\n",
       " 'https://www.econjobrumors.com/topic/arrogant-aps': 8,\n",
       " 'https://www.econjobrumors.com/topic/want-to-publish-in-el-it-now-suffices-to-analyzing-trump-tweet-timing': 1,\n",
       " 'https://www.econjobrumors.com/topic/deadwoods-in-hk': 1,\n",
       " 'https://www.econjobrumors.com/topic/happy-with-your-current-industry-job': 1,\n",
       " 'https://www.econjobrumors.com/topic/german-market': 2019,\n",
       " 'https://www.econjobrumors.com/topic/accounting-2020-21-job-market': 36,\n",
       " 'https://www.econjobrumors.com/topic/economists-that-are-true-x-researchers-1': 1,\n",
       " 'https://www.econjobrumors.com/topic/disconnection-between-finance-industry-and-academia': 1,\n",
       " 'https://www.econjobrumors.com/topic/job-postings-down-by-80': 66,\n",
       " 'https://www.econjobrumors.com/topic/forget-the-stimulus-fiscal-flows-are-still-strong-regardless': 1,\n",
       " 'https://www.econjobrumors.com/topic/published-but-scared-more-than-happy-about-it': 2,\n",
       " 'https://www.econjobrumors.com/topic/gelman-anonymous-econ-grad-student': 7,\n",
       " 'https://www.econjobrumors.com/topic/halliburton-goes-woke': 1,\n",
       " 'https://www.econjobrumors.com/topic/canadian-job-market-3': 1,\n",
       " 'https://www.econjobrumors.com/topic/why-do-libswokes-not-care-about': 1,\n",
       " 'https://www.econjobrumors.com/topic/japanese-jazz-pianist-tadataka-unno-left-unable-to-play-the-piano-or-hold-infant': 2,\n",
       " 'https://www.econjobrumors.com/topic/nejm-recommends-voting-dangerously-incompetent-potus-out-of-office': 2,\n",
       " 'https://www.econjobrumors.com/topic/official-economics-nobel-prize-2020-predictions-thread': 14,\n",
       " 'https://www.econjobrumors.com/topic/t-said-he-cured-himself-from-covid': 1,\n",
       " 'https://www.econjobrumors.com/topic/where-would-you-ideally-live-on-a-professors-salary': 2,\n",
       " 'https://www.econjobrumors.com/topic/shutdown-the-economy': 1,\n",
       " 'https://www.econjobrumors.com/topic/a-new-marketing-consumer-research-scandal-on-sight': 85,\n",
       " 'https://www.econjobrumors.com/topic/eth-uzh-quant-finance': 1,\n",
       " 'https://www.econjobrumors.com/topic/ubc-research-chair-in-behavioral-economics': 1,\n",
       " 'https://www.econjobrumors.com/topic/the-greatest-catholic-hero-of-the-last-1000-years-is': 2,\n",
       " 'https://www.econjobrumors.com/topic/2019-2020-wisconsin-placements': 1,\n",
       " 'https://www.econjobrumors.com/topic/serious-question-about-twitter-from-abd': 1,\n",
       " 'https://www.econjobrumors.com/topic/chrysi-avgi-to-humboldt-u': 1,\n",
       " 'https://www.econjobrumors.com/topic/why-are-american-colleges-insanely-overpriced': 2,\n",
       " 'https://www.econjobrumors.com/topic/if-you-could-press-a-button-that-makes-you-disappear-instantly': 1,\n",
       " 'https://www.econjobrumors.com/topic/why-didnt-zvi-griliches-win-the-nobel': 1,\n",
       " 'https://www.econjobrumors.com/topic/social-sciences-have-no-moral-right-to-make-claims-on-what-is-true': 1,\n",
       " 'https://www.econjobrumors.com/topic/granovetter-for-nobel': 2}"
      ]
     },
     "metadata": {},
     "execution_count": 4
    }
   ],
   "source": [
    "thread_urls(test)"
   ]
  },
  {
   "cell_type": "code",
   "execution_count": 18,
   "metadata": {},
   "outputs": [
    {
     "output_type": "execute_result",
     "data": {
      "text/plain": [
       "['https://www.econjobrumors.com/topic/request-a-thread-to-be-deleted-here',\n",
       " 'https://www.econjobrumors.com/topic/about-ejmr',\n",
       " 'https://www.econjobrumors.com/topic/halliburton-goes-woke',\n",
       " 'https://www.econjobrumors.com/topic/where-would-you-ideally-live-on-a-professors-salary',\n",
       " 'https://www.econjobrumors.com/topic/nejm-recommends-voting-dangerously-incompetent-potus-out-of-office',\n",
       " 'https://www.econjobrumors.com/topic/official-economics-nobel-prize-2020-predictions-thread',\n",
       " 'https://www.econjobrumors.com/topic/colleges-canceling-diversity-programs-in-response-to-orange-order',\n",
       " 'https://www.econjobrumors.com/topic/are-liserals-sure-they-want-more-social-workers-instead-of-police',\n",
       " 'https://www.econjobrumors.com/topic/job-postings-down-by-80',\n",
       " 'https://www.econjobrumors.com/topic/disconnection-between-finance-industry-and-academia',\n",
       " 'https://www.econjobrumors.com/topic/eth-uzh-quant-finance',\n",
       " 'https://www.econjobrumors.com/topic/ubc-research-chair-in-behavioral-economics',\n",
       " 'https://www.econjobrumors.com/topic/stem-cells',\n",
       " 'https://www.econjobrumors.com/topic/the-greatest-catholic-hero-of-the-last-1000-years-is',\n",
       " 'https://www.econjobrumors.com/topic/2019-2020-wisconsin-placements',\n",
       " 'https://www.econjobrumors.com/topic/serious-question-about-twitter-from-abd',\n",
       " 'https://www.econjobrumors.com/topic/a-new-marketing-consumer-research-scandal-on-sight',\n",
       " 'https://www.econjobrumors.com/topic/published-but-scared-more-than-happy-about-it',\n",
       " 'https://www.econjobrumors.com/topic/chrysi-avgi-to-humboldt-u',\n",
       " 'https://www.econjobrumors.com/topic/happy-with-your-current-industry-job',\n",
       " 'https://www.econjobrumors.com/topic/why-are-american-colleges-insanely-overpriced',\n",
       " 'https://www.econjobrumors.com/topic/why-do-illinois-residents-have-to-pay-four-times-the-price',\n",
       " 'https://www.econjobrumors.com/topic/if-you-could-press-a-button-that-makes-you-disappear-instantly',\n",
       " 'https://www.econjobrumors.com/topic/how-much-is-an-ounce-of-high-grade-pot-where-you-live',\n",
       " 'https://www.econjobrumors.com/topic/why-didnt-zvi-griliches-win-the-nobel',\n",
       " 'https://www.econjobrumors.com/topic/social-sciences-have-no-moral-right-to-make-claims-on-what-is-true',\n",
       " 'https://www.econjobrumors.com/topic/granovetter-for-nobel',\n",
       " 'https://www.econjobrumors.com/topic/i-will-submitting-to-the-qer-tomorrow',\n",
       " 'https://www.econjobrumors.com/topic/exodus-from-oxford',\n",
       " 'https://www.econjobrumors.com/topic/it-is-now-clear-that-sweden-approach-failed',\n",
       " 'https://www.econjobrumors.com/topic/how-many-schools-review-phd-applications-on-a-rolling-basis',\n",
       " 'https://www.econjobrumors.com/topic/a-woman-will-win-this-years-econ-nobel',\n",
       " 'https://www.econjobrumors.com/topic/heavy-dose-lsd-or-psilocybin-no-distractions',\n",
       " 'https://www.econjobrumors.com/topic/gifts-to-advisors',\n",
       " 'https://www.econjobrumors.com/topic/eric-so',\n",
       " 'https://www.econjobrumors.com/topic/gelman-anonymous-econ-grad-student',\n",
       " 'https://www.econjobrumors.com/topic/ucla-requires-english-and-prefers-american',\n",
       " 'https://www.econjobrumors.com/topic/do-you-also-constantly-feel-in-a-i-am-so-smartso-dumb-cycle',\n",
       " 'https://www.econjobrumors.com/topic/unemployment-claims-rosehigher-this-week-to-840000',\n",
       " 'https://www.econjobrumors.com/topic/did-you-ever-sended-a-paper-to-the-qje',\n",
       " 'https://www.econjobrumors.com/topic/any-2021-jmc-with-rr-yet',\n",
       " 'https://www.econjobrumors.com/topic/kids-are-expensive']"
      ]
     },
     "metadata": {},
     "execution_count": 18
    }
   ],
   "source": [
    "thread_urls_test"
   ]
  },
  {
   "cell_type": "code",
   "execution_count": 8,
   "metadata": {},
   "outputs": [
    {
     "output_type": "stream",
     "name": "stderr",
     "text": [
      "100%|██████████| 20/20 [00:54<00:00,  2.75s/it]\n"
     ]
    },
    {
     "output_type": "execute_result",
     "data": {
      "text/plain": [
       "[<Response [200]>,\n",
       " <Response [200]>,\n",
       " <Response [200]>,\n",
       " <Response [200]>,\n",
       " <Response [200]>,\n",
       " <Response [200]>,\n",
       " <Response [200]>,\n",
       " <Response [200]>,\n",
       " <Response [200]>,\n",
       " <Response [200]>,\n",
       " <Response [200]>,\n",
       " <Response [200]>,\n",
       " <Response [200]>,\n",
       " <Response [200]>,\n",
       " <Response [200]>,\n",
       " <Response [200]>,\n",
       " <Response [200]>,\n",
       " <Response [200]>,\n",
       " <Response [200]>,\n",
       " <Response [200]>]"
      ]
     },
     "metadata": {},
     "execution_count": 8
    }
   ],
   "source": [
    "dump_page_content(test, 1)"
   ]
  },
  {
   "cell_type": "code",
   "execution_count": null,
   "metadata": {},
   "outputs": [],
   "source": []
  }
 ]
}